{
 "cells": [
  {
   "cell_type": "markdown",
   "metadata": {},
   "source": [
    "# Set up secrets"
   ]
  },
  {
   "cell_type": "markdown",
   "metadata": {},
   "source": [
    "This notebook creates the `secret.json` file that holds API usernames and keys, which are necessary in some notebooks in order to use various services."
   ]
  },
  {
   "cell_type": "markdown",
   "metadata": {},
   "source": [
    "Simply replace the values in the below fields then run the cell to generate `secret.json` in your current working directory.<br />If you don't have the value for a certain service, you can leave it as it is, but note that notebooks that use that service may not work."
   ]
  },
  {
   "cell_type": "code",
   "execution_count": null,
   "metadata": {},
   "outputs": [],
   "source": [
    "import json\n",
    "\n",
    "secrets = {\n",
    "    'alveo': '<your Alveo API key>',\n",
    "    'trove': '<your Trove API key>',\n",
    "    'geonames': '<your Geonames username>',\n",
    "    'google': '<your Google Maps API key>',\n",
    "}\n",
    "\n",
    "with open('secret.json', 'w') as fp:\n",
    "    json.dump(secrets, fp, indent=4)"
   ]
  },
  {
   "cell_type": "markdown",
   "metadata": {},
   "source": [
    "After running the above cell, you should now see a `secret.json` in your working directory."
   ]
  }
 ],
 "metadata": {
  "kernelspec": {
   "display_name": "Environment (conda_py36)",
   "language": "python",
   "name": "conda_py36"
  },
  "language_info": {
   "codemirror_mode": {
    "name": "ipython",
    "version": 3
   },
   "file_extension": ".py",
   "mimetype": "text/x-python",
   "name": "python",
   "nbconvert_exporter": "python",
   "pygments_lexer": "ipython3",
   "version": "3.6.6"
  }
 },
 "nbformat": 4,
 "nbformat_minor": 2
}
