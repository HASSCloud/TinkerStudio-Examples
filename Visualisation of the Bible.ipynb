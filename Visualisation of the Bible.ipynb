{
 "cells": [
  {
   "cell_type": "markdown",
   "metadata": {},
   "source": [
    "# Visualisation of Narrative\n",
    "\n",
    "## Content\n",
    " - get visualisation\n",
    "  - by open templates\n",
    " - file progressing \n",
    "  - extract data from book\n",
    "  - split book through \"Chapter\"\n",
    " - extract words from book \n",
    "  - such as name or location\n",
    " - get relationship between characters and locations\n",
    " - analyse sentiment\n",
    " - calculate similarity between \"Chapter\"\n",
    " - put data into templates to get full visualisation"
   ]
  },
  {
   "cell_type": "markdown",
   "metadata": {},
   "source": [
    "### Narrative example : the bible\n",
    "The bible is used for the analysis. Bible is a novel that follows the story of jesus, a young man from Bethlehem who leaves his home to study. It will be used as a case study.\n",
    "\n",
    "The first step is to download the data to your local workspace."
   ]
  },
  {
   "cell_type": "code",
   "execution_count": 4,
   "metadata": {},
   "outputs": [
    {
     "name": "stderr",
     "output_type": "stream",
     "text": [
      "A subdirectory or file data already exists.\n",
      "Error occurred while processing: data.\n"
     ]
    }
   ],
   "source": [
    "!mkdir -p data\n",
    "!curl -s -L -o data/KingJames_bible.txt https://raw.githubusercontent.com/HASSCloud/TinkerStudio-Examples/master/data/KingJames_bible.txt\n",
    "!curl -s -L -o data/Bible_character.txt https://raw.githubusercontent.com/HASSCloud/TinkerStudio-Examples/master/data/Bible_character.txt\n",
    "!curl -s -L -o data/Bible_Locations.txt https://raw.githubusercontent.com/HASSCloud/TinkerStudio-Examples/master/data/Bible_Locations.txt"
   ]
  },
  {
   "cell_type": "markdown",
   "metadata": {},
   "source": [
    "### Required Libraries\n",
    "The following libraries are required to run the notebook.\n",
    "- You need to install several packages before using this notebook. They are Flask, textblob, NLTK and gensim respectively.\n",
    "\n",
    "  -You can add the cell and run the code: !pip install package (here is an expample below, and also you can just delete \"#\" to run the code.)"
   ]
  },
  {
   "cell_type": "code",
   "execution_count": 5,
   "metadata": {},
   "outputs": [
    {
     "name": "stdout",
     "output_type": "stream",
     "text": [
      "Requirement already satisfied: Flask in c:\\wpy64-3800\\python-3.8.0.amd64\\lib\\site-packages (1.1.1)\n",
      "Requirement already satisfied: itsdangerous>=0.24 in c:\\wpy64-3800\\python-3.8.0.amd64\\lib\\site-packages (from Flask) (1.1.0)\n",
      "Requirement already satisfied: Jinja2>=2.10.1 in c:\\wpy64-3800\\python-3.8.0.amd64\\lib\\site-packages (from Flask) (2.10.3)\n",
      "Requirement already satisfied: click>=5.1 in c:\\wpy64-3800\\python-3.8.0.amd64\\lib\\site-packages (from Flask) (7.0)\n",
      "Requirement already satisfied: Werkzeug>=0.15 in c:\\wpy64-3800\\python-3.8.0.amd64\\lib\\site-packages (from Flask) (0.16.0)\n",
      "Requirement already satisfied: MarkupSafe>=0.23 in c:\\wpy64-3800\\python-3.8.0.amd64\\lib\\site-packages (from Jinja2>=2.10.1->Flask) (1.1.1)\n",
      "Requirement already satisfied: textblob in c:\\wpy64-3800\\python-3.8.0.amd64\\lib\\site-packages (0.15.3)\n",
      "Requirement already satisfied: nltk>=3.1 in c:\\wpy64-3800\\python-3.8.0.amd64\\lib\\site-packages (from textblob) (3.4.5)\n",
      "Requirement already satisfied: six in c:\\wpy64-3800\\python-3.8.0.amd64\\lib\\site-packages (from nltk>=3.1->textblob) (1.12.0)\n",
      "Requirement already satisfied: nltk in c:\\wpy64-3800\\python-3.8.0.amd64\\lib\\site-packages (3.4.5)\n",
      "Requirement already satisfied: six in c:\\wpy64-3800\\python-3.8.0.amd64\\lib\\site-packages (from nltk) (1.12.0)\n",
      "Requirement already satisfied: gensim in c:\\wpy64-3800\\python-3.8.0.amd64\\lib\\site-packages (3.8.1)\n",
      "Requirement already satisfied: six>=1.5.0 in c:\\wpy64-3800\\python-3.8.0.amd64\\lib\\site-packages (from gensim) (1.12.0)\n",
      "Requirement already satisfied: smart-open>=1.8.1 in c:\\wpy64-3800\\python-3.8.0.amd64\\lib\\site-packages (from gensim) (1.9.0)\n",
      "Requirement already satisfied: scipy>=0.18.1 in c:\\wpy64-3800\\python-3.8.0.amd64\\lib\\site-packages (from gensim) (1.3.1)\n",
      "Requirement already satisfied: numpy>=1.11.3 in c:\\wpy64-3800\\python-3.8.0.amd64\\lib\\site-packages (from gensim) (1.17.3+mkl)\n",
      "Requirement already satisfied: requests in c:\\wpy64-3800\\python-3.8.0.amd64\\lib\\site-packages (from smart-open>=1.8.1->gensim) (2.22.0)\n",
      "Requirement already satisfied: boto3 in c:\\wpy64-3800\\python-3.8.0.amd64\\lib\\site-packages (from smart-open>=1.8.1->gensim) (1.10.28)\n",
      "Requirement already satisfied: boto>=2.32 in c:\\wpy64-3800\\python-3.8.0.amd64\\lib\\site-packages (from smart-open>=1.8.1->gensim) (2.49.0)\n",
      "Requirement already satisfied: urllib3 in c:\\wpy64-3800\\python-3.8.0.amd64\\lib\\site-packages (from requests->smart-open>=1.8.1->gensim) (1.25.6)\n",
      "Requirement already satisfied: chardet in c:\\wpy64-3800\\python-3.8.0.amd64\\lib\\site-packages (from requests->smart-open>=1.8.1->gensim) (3.0.4)\n",
      "Requirement already satisfied: certifi in c:\\wpy64-3800\\python-3.8.0.amd64\\lib\\site-packages (from requests->smart-open>=1.8.1->gensim) (2019.9.11)\n",
      "Requirement already satisfied: idna in c:\\wpy64-3800\\python-3.8.0.amd64\\lib\\site-packages (from requests->smart-open>=1.8.1->gensim) (2.8)\n",
      "Requirement already satisfied: jmespath<1.0.0,>=0.7.1 in c:\\wpy64-3800\\python-3.8.0.amd64\\lib\\site-packages (from boto3->smart-open>=1.8.1->gensim) (0.9.4)\n",
      "Requirement already satisfied: s3transfer<0.3.0,>=0.2.0 in c:\\wpy64-3800\\python-3.8.0.amd64\\lib\\site-packages (from boto3->smart-open>=1.8.1->gensim) (0.2.1)\n",
      "Requirement already satisfied: botocore<1.14.0,>=1.13.28 in c:\\wpy64-3800\\python-3.8.0.amd64\\lib\\site-packages (from boto3->smart-open>=1.8.1->gensim) (1.13.28)\n",
      "Requirement already satisfied: python-dateutil<2.8.1,>=2.1; python_version >= \"2.7\" in c:\\wpy64-3800\\python-3.8.0.amd64\\lib\\site-packages (from botocore<1.14.0,>=1.13.28->boto3->smart-open>=1.8.1->gensim) (2.8.0)\n",
      "Requirement already satisfied: docutils<0.16,>=0.10 in c:\\wpy64-3800\\python-3.8.0.amd64\\lib\\site-packages (from botocore<1.14.0,>=1.13.28->boto3->smart-open>=1.8.1->gensim) (0.15.2)\n",
      "Requirement already satisfied: spacy in c:\\wpy64-3800\\python-3.8.0.amd64\\lib\\site-packages (2.2.3)\n",
      "Requirement already satisfied: setuptools in c:\\wpy64-3800\\python-3.8.0.amd64\\lib\\site-packages (from spacy) (41.4.0)\n",
      "Requirement already satisfied: requests<3.0.0,>=2.13.0 in c:\\wpy64-3800\\python-3.8.0.amd64\\lib\\site-packages (from spacy) (2.22.0)\n",
      "Requirement already satisfied: blis<0.5.0,>=0.4.0 in c:\\wpy64-3800\\python-3.8.0.amd64\\lib\\site-packages (from spacy) (0.4.1)\n",
      "Requirement already satisfied: numpy>=1.15.0 in c:\\wpy64-3800\\python-3.8.0.amd64\\lib\\site-packages (from spacy) (1.17.3+mkl)\n",
      "Requirement already satisfied: thinc<7.4.0,>=7.3.0 in c:\\wpy64-3800\\python-3.8.0.amd64\\lib\\site-packages (from spacy) (7.3.1)\n",
      "Requirement already satisfied: wasabi<1.1.0,>=0.4.0 in c:\\wpy64-3800\\python-3.8.0.amd64\\lib\\site-packages (from spacy) (0.4.0)\n",
      "Requirement already satisfied: preshed<3.1.0,>=3.0.2 in c:\\wpy64-3800\\python-3.8.0.amd64\\lib\\site-packages (from spacy) (3.0.2)\n",
      "Requirement already satisfied: srsly<1.1.0,>=0.1.0 in c:\\wpy64-3800\\python-3.8.0.amd64\\lib\\site-packages (from spacy) (0.2.0)\n",
      "Requirement already satisfied: plac<1.2.0,>=0.9.6 in c:\\wpy64-3800\\python-3.8.0.amd64\\lib\\site-packages (from spacy) (1.1.3)\n",
      "Requirement already satisfied: catalogue<1.1.0,>=0.0.7 in c:\\wpy64-3800\\python-3.8.0.amd64\\lib\\site-packages (from spacy) (0.0.8)\n",
      "Requirement already satisfied: murmurhash<1.1.0,>=0.28.0 in c:\\wpy64-3800\\python-3.8.0.amd64\\lib\\site-packages (from spacy) (1.0.2)\n",
      "Requirement already satisfied: cymem<2.1.0,>=2.0.2 in c:\\wpy64-3800\\python-3.8.0.amd64\\lib\\site-packages (from spacy) (2.0.3)\n",
      "Requirement already satisfied: chardet in c:\\wpy64-3800\\python-3.8.0.amd64\\lib\\site-packages (from requests<3.0.0,>=2.13.0->spacy) (3.0.4)\n",
      "Requirement already satisfied: urllib3 in c:\\wpy64-3800\\python-3.8.0.amd64\\lib\\site-packages (from requests<3.0.0,>=2.13.0->spacy) (1.25.6)\n",
      "Requirement already satisfied: certifi in c:\\wpy64-3800\\python-3.8.0.amd64\\lib\\site-packages (from requests<3.0.0,>=2.13.0->spacy) (2019.9.11)\n",
      "Requirement already satisfied: idna in c:\\wpy64-3800\\python-3.8.0.amd64\\lib\\site-packages (from requests<3.0.0,>=2.13.0->spacy) (2.8)\n",
      "Requirement already satisfied: tqdm<5.0.0,>=4.10.0 in c:\\wpy64-3800\\python-3.8.0.amd64\\lib\\site-packages (from thinc<7.4.0,>=7.3.0->spacy) (4.36.1)\n",
      "Requirement already satisfied: pandas in c:\\wpy64-3800\\python-3.8.0.amd64\\lib\\site-packages (0.25.2)\n",
      "Requirement already satisfied: pytz>=2017.2 in c:\\wpy64-3800\\python-3.8.0.amd64\\lib\\site-packages (from pandas) (2019.3)\n",
      "Requirement already satisfied: python-dateutil>=2.6.1 in c:\\wpy64-3800\\python-3.8.0.amd64\\lib\\site-packages (from pandas) (2.8.0)\n",
      "Requirement already satisfied: numpy>=1.13.3 in c:\\wpy64-3800\\python-3.8.0.amd64\\lib\\site-packages (from pandas) (1.17.3+mkl)\n",
      "Requirement already satisfied: six>=1.5 in c:\\wpy64-3800\\python-3.8.0.amd64\\lib\\site-packages (from python-dateutil>=2.6.1->pandas) (1.12.0)\n",
      "Requirement already satisfied: seaborn in c:\\wpy64-3800\\python-3.8.0.amd64\\lib\\site-packages (0.9.1.dev0)\n",
      "Requirement already satisfied: numpy>=1.9.3 in c:\\wpy64-3800\\python-3.8.0.amd64\\lib\\site-packages (from seaborn) (1.17.3+mkl)\n",
      "Requirement already satisfied: scipy>=0.14.0 in c:\\wpy64-3800\\python-3.8.0.amd64\\lib\\site-packages (from seaborn) (1.3.1)\n",
      "Requirement already satisfied: pandas>=0.15.2 in c:\\wpy64-3800\\python-3.8.0.amd64\\lib\\site-packages (from seaborn) (0.25.2)\n",
      "Requirement already satisfied: matplotlib>=1.4.3 in c:\\wpy64-3800\\python-3.8.0.amd64\\lib\\site-packages (from seaborn) (3.1.1)\n",
      "Requirement already satisfied: pytz>=2017.2 in c:\\wpy64-3800\\python-3.8.0.amd64\\lib\\site-packages (from pandas>=0.15.2->seaborn) (2019.3)\n",
      "Requirement already satisfied: python-dateutil>=2.6.1 in c:\\wpy64-3800\\python-3.8.0.amd64\\lib\\site-packages (from pandas>=0.15.2->seaborn) (2.8.0)\n",
      "Requirement already satisfied: kiwisolver>=1.0.1 in c:\\wpy64-3800\\python-3.8.0.amd64\\lib\\site-packages (from matplotlib>=1.4.3->seaborn) (1.1.0)\n",
      "Requirement already satisfied: cycler>=0.10 in c:\\wpy64-3800\\python-3.8.0.amd64\\lib\\site-packages (from matplotlib>=1.4.3->seaborn) (0.10.0)\n",
      "Requirement already satisfied: pyparsing!=2.0.4,!=2.1.2,!=2.1.6,>=2.0.1 in c:\\wpy64-3800\\python-3.8.0.amd64\\lib\\site-packages (from matplotlib>=1.4.3->seaborn) (2.4.2)\n",
      "Requirement already satisfied: six>=1.5 in c:\\wpy64-3800\\python-3.8.0.amd64\\lib\\site-packages (from python-dateutil>=2.6.1->pandas>=0.15.2->seaborn) (1.12.0)\n",
      "Requirement already satisfied: setuptools in c:\\wpy64-3800\\python-3.8.0.amd64\\lib\\site-packages (from kiwisolver>=1.0.1->matplotlib>=1.4.3->seaborn) (41.4.0)\n",
      "Requirement already satisfied: matplotlib in c:\\wpy64-3800\\python-3.8.0.amd64\\lib\\site-packages (3.1.1)\n",
      "Requirement already satisfied: python-dateutil>=2.1 in c:\\wpy64-3800\\python-3.8.0.amd64\\lib\\site-packages (from matplotlib) (2.8.0)\n",
      "Requirement already satisfied: cycler>=0.10 in c:\\wpy64-3800\\python-3.8.0.amd64\\lib\\site-packages (from matplotlib) (0.10.0)\n",
      "Requirement already satisfied: kiwisolver>=1.0.1 in c:\\wpy64-3800\\python-3.8.0.amd64\\lib\\site-packages (from matplotlib) (1.1.0)\n",
      "Requirement already satisfied: pyparsing!=2.0.4,!=2.1.2,!=2.1.6,>=2.0.1 in c:\\wpy64-3800\\python-3.8.0.amd64\\lib\\site-packages (from matplotlib) (2.4.2)\n",
      "Requirement already satisfied: numpy>=1.11 in c:\\wpy64-3800\\python-3.8.0.amd64\\lib\\site-packages (from matplotlib) (1.17.3+mkl)\n",
      "Requirement already satisfied: six>=1.5 in c:\\wpy64-3800\\python-3.8.0.amd64\\lib\\site-packages (from python-dateutil>=2.1->matplotlib) (1.12.0)\n",
      "Requirement already satisfied: setuptools in c:\\wpy64-3800\\python-3.8.0.amd64\\lib\\site-packages (from kiwisolver>=1.0.1->matplotlib) (41.4.0)\n"
     ]
    }
   ],
   "source": [
    "!pip install Flask\n",
    "!pip install textblob\n",
    "!pip install nltk\n",
    "!pip install gensim\n",
    "!pip install spacy\n",
    "#!pip install ascii_letters\n",
    "!pip install pandas\n",
    "!pip install seaborn\n",
    "!pip install matplotlib"
   ]
  },
  {
   "cell_type": "markdown",
   "metadata": {},
   "source": [
    "Let's start by importing several modules that we will need."
   ]
  },
  {
   "cell_type": "code",
   "execution_count": 6,
   "metadata": {},
   "outputs": [],
   "source": [
    "# fast array operations  \n",
    "import numpy as np\n",
    "\n",
    "# natural language processing\n",
    "from nltk.tokenize import sent_tokenize\n",
    "from nltk.corpus import stopwords\n",
    "from nltk import word_tokenize\n",
    "import string\n",
    "from nltk import ne_chunk, pos_tag\n",
    "from nltk.sentiment.vader import SentimentIntensityAnalyzer\n",
    "from textblob import TextBlob\n",
    "import spacy\n",
    "\n",
    "# using TFIDF LSM to calculate similarities between chapter\n",
    "from gensim import corpora, similarities, models\n",
    "\n",
    "# natural language processing remove stopwords\n",
    "from gensim.parsing.preprocessing import remove_stopwords\n",
    "from flask import json\n",
    "import os\n",
    "\n",
    "# visualisation plotting\n",
    "from string import ascii_letters\n",
    "\n",
    "# dateframe(think spreadsheet-like data) manipulation\n",
    "import pandas as pd\n",
    "import seaborn as sns\n",
    "import matplotlib.pyplot as plt\n",
    "import pylab as pl\n"
   ]
  },
  {
   "cell_type": "markdown",
   "metadata": {},
   "source": [
    "# Reading the document\n"
   ]
  },
  {
   "cell_type": "markdown",
   "metadata": {},
   "source": [
    "Before performing the analysis, three files need to be provided for the analysis.\n",
    "1. **The Narrative**. This could be novels, articles, news, etc.\n",
    "2. **Characters list**. In order to display the name of the characters more accurately, it is necessary to provide the name of the character to be analysed.\n",
    "3. **List of locations**.\n",
    "\n",
    "All these are `.txt` files.\n",
    "For this example, each file is located in the data directory. We can take a look at this example, the narrative is a `.txt` file, which is named KingJames_bible.txt\n",
    "\n"
   ]
  },
  {
   "cell_type": "markdown",
   "metadata": {},
   "source": [
    "### How to change the narrative\n",
    "\n",
    "1. Get the address of the narrative file that needs to be analysed. You need to upload the text to the Notebook workspace, to do this, click the up arrow, locate the folder where the files are stored and open them in the work book. Once this is done, the code will direct the notebook to your files for analysis. \n",
    "   - For example, this example analysis text 'bible' which address is \"./KingJames_bible.txt\".\n"
   ]
  },
  {
   "cell_type": "markdown",
   "metadata": {},
   "source": [
    "**NOTE! How to get file address**\n",
    "\n",
    "**For Window OS**\n",
    "If you already have the narrative or file open in Explorer, you can copy its file path to the clipboard, then paste that path into the upload dialog box. Here’s how:\n",
    "\n",
    " \n",
    "Open Windows Explorer and find the or document in question.\n",
    "Hold down the Shift key, then right-click the document.\n",
    "In the context menu that appears, find and click Copy as path. This copies the file location to the clipboard. (FYI, if you don’t hold down Shift when you right-click, the Copy as path option won’t appear.)\n",
    "Now, in your browser, head to Notebook or wherever, access the upload tool, and click Browse.\n",
    "Press Ctrl-V to paste in the file location, then you will got the file address.\n",
    "\n",
    "**for MAC OS**\n",
    "Select the file or folder in the OS X Finder, then hit Command+i to summon Get Info\n",
    "Click and drag alongside “Where” to select the path, then hit Command+C to copy the full path to the clipboard"
   ]
  },
  {
   "cell_type": "markdown",
   "metadata": {},
   "source": [
    "**WHERE TO CHANGE THE NARRATIVE**  Here are the file addresses that you can change for you own narrative\n",
    "![alt text](https://www.easyicon.net/api/resizeApi.php?id=1223126&size=48)"
   ]
  },
  {
   "cell_type": "code",
   "execution_count": 7,
   "metadata": {},
   "outputs": [],
   "source": [
    "narrative = \"./data/KingJames_bible.txt\"\n",
    "characters = \"./data/Bible_character.txt\"\n",
    "locations = \"./data/Bible_Locations.txt\""
   ]
  },
  {
   "cell_type": "markdown",
   "metadata": {},
   "source": [
    "After you enter the addresses of the files you want to analyse, you need to convert those addresses into a computer-readable document. The function of ` read_doc_n_prep` will analyse the address of each of the files you entered. \n",
    "\n",
    "`path` is the file address that you entered before."
   ]
  },
  {
   "cell_type": "code",
   "execution_count": 8,
   "metadata": {},
   "outputs": [],
   "source": [
    "def read_doc_n_prep(path):\n",
    "    '''\n",
    "    Read in a document and preprocess.\n",
    "    :param path: document path.\n",
    "    :return: document consists of chapters.\n",
    "    '''\n",
    "    with open(path) as file:\n",
    "        lines = file.readlines()\n",
    "        lines = [line.strip() for line in lines]  # Strip whitespace at both sides of each sentence.\n",
    "        lines = [line for line in lines if len(line) >= 2]  # Filter out too short sentences.\n",
    "        return lines"
   ]
  },
  {
   "cell_type": "markdown",
   "metadata": {
    "slideshow": {
     "slide_type": "-"
    }
   },
   "source": [
    "# Processing the documents"
   ]
  },
  {
   "cell_type": "markdown",
   "metadata": {},
   "source": [
    "\n",
    "We will use a very important python library `TextBlob` in the entire notebook analysis, so let's briefly describe some of the features of the `TextBlob` we are using. As well as giving you a simple example for a future analysis.\n",
    "\n",
    "### TextBlob \n",
    "TextBlob is a python library and offers a simple API to access its methods and perform basic natural language processing (NLP) tasks. \n",
    "\n",
    "1. *Tokenization*:\n",
    "Tokenization refers to dividing text or a sentence into a sequence of tokens, which roughly correspond to “words”. This is one of the basic tasks of NLP. \n",
    "2. *Noun Phrase Extraction*: \n",
    "Since we extracted the words in the previous section, instead of that we can just extract out the noun phrases from the textblob. Noun Phrase extraction is particularly important when you want to analyse the “who” in a sentence. Let's see an example below.\n",
    "3. *Part-of-speech Tagging*: \n",
    "Part-of-speech tagging or grammatical tagging is a method to mark words present in a text based on its definition and context. In simple words, it tells whether a word is a noun, or an adjective, or a verb, etc. This is just a complete version of noun phrase extraction, where we want to find all the parts of speech in a sentence.\n",
    "4. *Sentiment Analysis*: \n",
    "Sentiment analysis is basically the process of determining the attitude or the emotion of the writer, i.e., whether it is positive or negative or neutral.\n",
    "The sentiment function of textblob returns two properties, polarity, and subjectivity.\n",
    "Polarity is float which lies in the range of [-1,1] where 1 means positive statement and -1 means a negative statement. Subjective sentences generally refer to personal opinion, emotion or judgement, whereas objective refers to factual information. Subjectivity is also a float which lies in the range of [0,1]."
   ]
  },
  {
   "cell_type": "markdown",
   "metadata": {},
   "source": [
    "After importing the article path into the Notebook in the previous step, we can read the article in the Notebook and begin our next analysis.\n",
    "\n",
    "\n",
    "\n",
    "By using `split_chapters` function, through ”Chapter“ keywords, the article is divided into different chapters.\n",
    "\n",
    "In this way, you can change the chapter you want to analyze according to your own requirements, or you can check the whole article by setting the chapter '0'."
   ]
  },
  {
   "cell_type": "code",
   "execution_count": 9,
   "metadata": {},
   "outputs": [],
   "source": [
    " def split_chapters(document, split_line=\"Chapter\"):\n",
    "    '''\n",
    "    Split a whole text into chapters, which is splited by lines starting with split_line.\n",
    "    :param document: document to be processed.\n",
    "    :param split_line: starting part of lines which splits chapters in document.\n",
    "    :return: a list of chapters\n",
    "    '''\n",
    "    chapters = []\n",
    "    chapter_indexes = [i for i in range(0, len(document)) if (document[i].strip().startswith(split_line))]\n",
    "    chapter_indexes.append(len(document))\n",
    "    for ind in range(0, len(chapter_indexes) - 1):\n",
    "        chapters.append(document[chapter_indexes[ind]:chapter_indexes[ind + 1]])\n",
    "    return chapters"
   ]
  },
  {
   "cell_type": "markdown",
   "metadata": {},
   "source": [
    "The output below is the chapters of the article divided by the `split_chapters` function. The output will show you how many chapters are in the text. \n"
   ]
  },
  {
   "cell_type": "code",
   "execution_count": 10,
   "metadata": {},
   "outputs": [
    {
     "name": "stdout",
     "output_type": "stream",
     "text": [
      "66\n"
     ]
    }
   ],
   "source": [
    "text = read_doc_n_prep(narrative)\n",
    "chaps = split_chapters(text, \"Chapter\")\n",
    "print(len(chaps))\n",
    "#print(chaps[0])\n",
    "#for chapter in chaps:\n",
    "#    print(chapter)"
   ]
  },
  {
   "cell_type": "markdown",
   "metadata": {},
   "source": [
    "# Get Relationship between characters and locations"
   ]
  },
  {
   "cell_type": "markdown",
   "metadata": {},
   "source": [
    "This function `extract_conns_with_entities` is to get the relationship between characters by looping through each chapter in the article.\n",
    "\n",
    "Two things are needed in this function. The first is the content of each chapter, the second is the list that needs to be analyzed, the list of characters, or the list of location.\n",
    "\n",
    "`chapter` : This part of us has gotten from the initial data processing. `split_chapters`\n",
    "\n",
    "\n",
    "`entities_set` : This list is a list that needs to be included before the researcher starts the analysis. It's could be Characters List or Locations List.\n",
    "\n",
    "After passing in the two contents, this function starts to calculate the relationship that needs to be analyzed. \n",
    "\n",
    "Here we use the relationships between the characters as an example. We judge two names that appear in one sentence at the same time as the relationship between the two. \n",
    "First, this is that all the character relationships are 0 before the initial analysis, and if two names appear in one sentence after the analysis starts, then Add 1 character relationship. After completing the analysis of the entire article, you can get all the relationship of the characters.\n",
    "\n",
    "For example: **Joseph** told **Mary** that he was very happy today.\n",
    "**Joseph** and **Mary** appear in one sentence, so we can assume these two characters have a relationship. Before starting the analysis, they have 0 relationship, after analysis the relationship will plus 1. Thus we can see relationship between these two characters is 1."
   ]
  },
  {
   "cell_type": "code",
   "execution_count": 11,
   "metadata": {},
   "outputs": [],
   "source": [
    "def extract_conns_with_entities(chapter, entities_set):\n",
    "    '''\n",
    "\n",
    "    :param chapter:chapter waiting to be processed, a list of sentences,entities_set contains entities we care about\n",
    "    :return: characters, connections\n",
    "    '''\n",
    "    title = chapter[0]\n",
    "    paragraphs = chapter[1:]\n",
    "\n",
    "    entities = [([entity for entity in entities_set if entity.split()[0].lower() in paragraph.lower()], paragraph) for paragraph in paragraphs]\n",
    "\n",
    "    entities = [pair for pair in entities if len(pair[0]) != 0]\n",
    "\n",
    "    connections = {}\n",
    "    for pair in entities:\n",
    "        entity = set(pair[0])\n",
    "        if len(entity) <= 1:\n",
    "            continue\n",
    "        entity = list(entity)\n",
    "        for ind in range(0, len(entity)):\n",
    "            for other_ind in range(ind + 1, len(entity)):\n",
    "                a = entity[ind]\n",
    "                b = entity[other_ind]\n",
    "                if a not in connections:\n",
    "                    connections[a] = {}\n",
    "                if b not in connections[a]:\n",
    "                    connections[a][b] = 0\n",
    "                connections[a][b] += 1\n",
    "\n",
    "                if b not in connections:\n",
    "                    connections[b] = {}\n",
    "                if a not in connections[b]:\n",
    "                    connections[b][a] = 0\n",
    "                connections[b][a] += 1\n",
    "\n",
    "    return connections"
   ]
  },
  {
   "cell_type": "markdown",
   "metadata": {},
   "source": [
    "This function `extract_conns_from_chapter` is the same as the previous one `extract_conns_with_entities`, except that they require different parameters.\n",
    "\n",
    "For this function, it only needs one parameter which is `chapter`. \n",
    "\n",
    "This function is needed because sometimes the researcher may not be able to provide a list of characters or locations before reading. Analysis can also be done if the list is not available, but there may be many unexpected names, because the name may be wrong after analysis by the natural language processing tool of `TextBlob`. For example, sometimes Jesus Christ and Jesus are one person, but in the process of analysis, they become two people. This is why we most want to provide a list before the analysis, which can make the analysis results more accurate."
   ]
  },
  {
   "cell_type": "code",
   "execution_count": 12,
   "metadata": {},
   "outputs": [],
   "source": [
    "def extract_conns_from_chapter(chapter):\n",
    "    '''\n",
    "\n",
    "    :param chapter:chapter waiting to be processed, a list of sentences\n",
    "    :return: characters, connections\n",
    "    '''\n",
    "    title = chapter[0]\n",
    "    paragraphs = chapter[1:]\n",
    "    entities = [(self.ner_from_text(paragraph), paragraph) for paragraph in paragraphs]\n",
    "    entities = [pair for pair in entities if len(pair[0]) != 0]\n",
    "\n",
    "    connections = {}\n",
    "    for pair in entities:\n",
    "        entity = set(pair[0])\n",
    "        if len(entity) <= 1:\n",
    "            continue\n",
    "        entity = list(entity)\n",
    "        for ind in range(0, len(entity)):\n",
    "            for other_ind in range(ind + 1, len(entity)):\n",
    "                a = entity[ind]\n",
    "                b = entity[other_ind]\n",
    "                if a not in connections:\n",
    "                    connections[a] = {}\n",
    "                if b not in connections[a]:\n",
    "                    connections[a][b] = 0\n",
    "                connections[a][b] += 1\n",
    "\n",
    "                if b not in connections:\n",
    "                    connections[b] = {}\n",
    "                if a not in connections[b]:\n",
    "                    connections[b][a] = 0\n",
    "                connections[b][a] += 1\n",
    "\n",
    "    return connections"
   ]
  },
  {
   "cell_type": "markdown",
   "metadata": {},
   "source": [
    "Here we use the Part-of-speech Tagging feature in natural language. First, we need to import the required packages."
   ]
  },
  {
   "cell_type": "code",
   "execution_count": 13,
   "metadata": {},
   "outputs": [
    {
     "name": "stderr",
     "output_type": "stream",
     "text": [
      "[nltk_data] Downloading package punkt to\n",
      "[nltk_data]     C:\\Users\\s2976086.STAFF\\AppData\\Roaming\\nltk_data...\n",
      "[nltk_data]   Package punkt is already up-to-date!\n",
      "[nltk_data] Downloading package averaged_perceptron_tagger to\n",
      "[nltk_data]     C:\\Users\\s2976086.STAFF\\AppData\\Roaming\\nltk_data...\n",
      "[nltk_data]   Package averaged_perceptron_tagger is already up-to-\n",
      "[nltk_data]       date!\n"
     ]
    },
    {
     "data": {
      "text/plain": [
       "True"
      ]
     },
     "execution_count": 13,
     "metadata": {},
     "output_type": "execute_result"
    }
   ],
   "source": [
    "import nltk\n",
    "nltk.download('punkt')\n",
    "nltk.download('averaged_perceptron_tagger')\n"
   ]
  },
  {
   "cell_type": "code",
   "execution_count": 14,
   "metadata": {},
   "outputs": [
    {
     "name": "stdout",
     "output_type": "stream",
     "text": [
      "[('And', 'CC'), ('God', 'NNP'), ('said', 'VBD'), ('Let', 'VB'), ('the', 'DT'), ('waters', 'NNS'), ('bring', 'VBP'), ('forth', 'RB'), ('abundantly', 'RB'), ('the', 'DT'), ('moving', 'VBG'), ('creature', 'NN'), ('that', 'WDT'), ('hath', 'VBZ'), ('life', 'NN'), ('and', 'CC'), ('fowl', 'NN'), ('that', 'WDT'), ('may', 'MD'), ('fly', 'VB'), ('above', 'IN'), ('the', 'DT'), ('earth', 'NN'), ('in', 'IN'), ('the', 'DT'), ('open', 'JJ'), ('firmament', 'NN'), ('of', 'IN'), ('heaven', 'NN')]\n"
     ]
    }
   ],
   "source": [
    "POSExample = \"And God said, Let the waters bring forth abundantly the moving creature that hath life, and fowl that may fly above the earth in the open firmament of heaven.\"\n",
    "tag = TextBlob(POSExample).tags\n",
    "print(tag)"
   ]
  },
  {
   "cell_type": "markdown",
   "metadata": {},
   "source": [
    "Here, NN represents a noun, DT represents as a determiner,NNP represents a location\n",
    "etc. You can check the full list of tags from [here](https://www.clips.uantwerpen.be/pages/mbsp-tags) to know more.\n",
    "\n"
   ]
  },
  {
   "cell_type": "markdown",
   "metadata": {},
   "source": [
    "Through this function `extract_location_from_text` we can get all the components in the sentence to be analyzed. After extracting the location or character in the sentence, we can start analyzing the location or character relationship."
   ]
  },
  {
   "cell_type": "code",
   "execution_count": 15,
   "metadata": {},
   "outputs": [],
   "source": [
    "def extract_location_from_text(text):\n",
    "    '''\n",
    "\n",
    "    :param sentence: sentence waiting to be processed, a list of tokens\n",
    "    :return: entities in a sentence\n",
    "    '''\n",
    "    entities = [ent.text for ent in self.nlp(text).ents if ent.label_ in ['GPE', 'LOC']]\n",
    "    print(entities, text)\n",
    "    return entities"
   ]
  },
  {
   "cell_type": "code",
   "execution_count": 16,
   "metadata": {},
   "outputs": [],
   "source": [
    "def extract_location_with_list(chapter, location_set):\n",
    "\n",
    "    title = chapter[0]\n",
    "    paragraphs = chapter[1:]\n",
    "    entities = [([entity for entity in location_set if entity in paragraph], paragraph) for paragraph in paragraphs]\n",
    "    entities = [pair for pair in entities if len(pair[0]) != 0]\n",
    "\n",
    "    connections = {}\n",
    "    for pair in entities:\n",
    "        entity = set(pair[0])\n",
    "        if len(entity) <= 1:\n",
    "            continue\n",
    "        entity = list(entity)\n",
    "        for ind in range(0, len(entity)):\n",
    "            for other_ind in range(ind + 1, len(entity)):\n",
    "                a = entity[ind]\n",
    "                b = entity[other_ind]\n",
    "                if a not in connections:\n",
    "                    connections[a] = {}\n",
    "                if b not in connections[a]:\n",
    "                    connections[a][b] = 0\n",
    "                connections[a][b] += 1\n",
    "\n",
    "                if b not in connections:\n",
    "                    connections[b] = {}\n",
    "                if a not in connections[b]:\n",
    "                    connections[b][a] = 0\n",
    "                connections[b][a] += 1\n",
    "    return connections"
   ]
  },
  {
   "cell_type": "markdown",
   "metadata": {},
   "source": [
    "## calculate the relationship between characters\n",
    "It can show the relationship between each character in the whole novel.\n",
    "- The relationships between people can be obtained by calling the analyze_conns method. If the two names appear in the same sentence in the text, it will add one to the relationship between them. After analyzing the whole text, the relationship between all the characters will be obtained. The result is a two-dimensional array that represents the relationships between different characters.\n",
    "  - As can be seen from the following example, the first part of the array is the relationship between Jesus and other characters. For example, God has a relationship of 1 with King Herod and 13 with Joseph.\n",
    "  \n"
   ]
  },
  {
   "cell_type": "code",
   "execution_count": 17,
   "metadata": {},
   "outputs": [],
   "source": [
    "def ner_from_text(text):\n",
    "    '''\n",
    "\n",
    "    :param sentence: sentence waiting to be processed, a list of tokens\n",
    "    :return: entities in a sentence\n",
    "    '''\n",
    "\n",
    "    stop_words = set(stopwords.words('english'))\n",
    "    text = text.replace(\"'\", \" \")\n",
    "    text = word_tokenize(text)\n",
    "\n",
    "    text = [word for word in text if word not in stop_words and word not in string.punctuation]\n",
    "    text = ' '.join(text)\n",
    "\n",
    "    entities = [ent.text for ent in self.nlp(text).ents if ent.label_ == 'PERSON']\n",
    "    return entities\n"
   ]
  },
  {
   "cell_type": "code",
   "execution_count": 18,
   "metadata": {},
   "outputs": [],
   "source": [
    "def analyze_conns(path, charcter_path=\"\"):\n",
    "    document = read_doc_n_prep(path)\n",
    "    document = split_chapters(document, \"Chapter\")\n",
    "    characters = []\n",
    "    with open(charcter_path) as file:\n",
    "        characters = file.readlines()\n",
    "        characters = [i.strip() for i in characters]\n",
    "    conns = []\n",
    "    if len(characters) != 0:\n",
    "        conns = [extract_conns_with_entities(chapter, characters) for chapter in document]\n",
    "    else:\n",
    "        conns = [extract_conns_from_chapter(chapter) for chapter in document]\n",
    "    return conns"
   ]
  },
  {
   "cell_type": "code",
   "execution_count": 19,
   "metadata": {
    "scrolled": true
   },
   "outputs": [
    {
     "name": "stdout",
     "output_type": "stream",
     "text": [
      "[{'King Herod': {'God': 2, 'Abraham': 3, 'Joseph': 1, 'Joseph of Arimathea': 1}, 'God': {'King Herod': 2, 'Abraham': 18, 'Joseph': 13, 'Joseph of Arimathea': 13}, 'Abraham': {'God': 18, 'King Herod': 3}, 'Joseph': {'Joseph of Arimathea': 154, 'God': 13, 'King Herod': 1}, 'Joseph of Arimathea': {'Joseph': 154, 'God': 13, 'King Herod': 1}}, {'Joseph': {'Joseph of Arimathea': 4, 'King Herod': 1, 'Moses': 1}, 'Joseph of Arimathea': {'Joseph': 4, 'King Herod': 1, 'Moses': 1}, 'King Herod': {'Joseph': 1, 'Joseph of Arimathea': 1, 'God': 1, 'Moses': 3}, 'God': {'King Herod': 1, 'Abraham': 4, 'Moses': 15}, 'Abraham': {'God': 4}, 'Moses': {'God': 15, 'King Herod': 3, 'Joseph': 1, 'Joseph of Arimathea': 1}}, {}, {'Joseph': {'Joseph of Arimathea': 12, 'King Herod': 1, 'Moses': 1}, 'Joseph of Arimathea': {'Joseph': 12, 'King Herod': 1, 'Moses': 1}, 'God': {'Moses': 4, 'King Herod': 1}, 'Moses': {'God': 4, 'King Herod': 1, 'Joseph': 1, 'Joseph of Arimathea': 1}, 'King Herod': {'Moses': 1, 'God': 1, 'Joseph': 1, 'Joseph of Arimathea': 1}}, {'King Herod': {'God': 5, 'Moses': 2}, 'God': {'King Herod': 5, 'Devil': 1, 'Moses': 1}, 'Moses': {'King Herod': 2, 'God': 1}, 'Joseph': {'Joseph of Arimathea': 3}, 'Joseph of Arimathea': {'Joseph': 3}, 'Devil': {'God': 1}}, {'God': {'Moses': 3}, 'Moses': {'God': 3}, 'Joseph': {'Joseph of Arimathea': 12}, 'Joseph of Arimathea': {'Joseph': 12}}, {'Joseph': {'Joseph of Arimathea': 3}, 'Joseph of Arimathea': {'Joseph': 3}, 'King Herod': {'God': 1}, 'God': {'King Herod': 1}}, {}, {'King Herod': {'God': 2, 'Saul': 9, 'David': 9}, 'God': {'King Herod': 2, 'Saul': 7, 'David': 6}, 'Saul': {'God': 7, 'King Herod': 9, 'David': 74}, 'David': {'Saul': 74, 'God': 6, 'King Herod': 9}}, {'David': {'Saul': 9, 'King Herod': 34, 'God': 7}, 'Saul': {'David': 9, 'King Herod': 8}, 'King Herod': {'David': 34, 'Saul': 8, 'God': 10}, 'God': {'David': 7, 'King Herod': 10}, 'Joseph': {'Joseph of Arimathea': 1}, 'Joseph of Arimathea': {'Joseph': 1}}, {'King Herod': {'David': 10, 'God': 15}, 'David': {'King Herod': 10, 'God': 6}, 'God': {'King Herod': 15, 'David': 6}, 'Joseph': {'Joseph of Arimathea': 1}, 'Joseph of Arimathea': {'Joseph': 1}}, {'King Herod': {'God': 11}, 'God': {'King Herod': 11, 'David': 2, 'Moses': 1}, 'David': {'God': 2}, 'Moses': {'God': 1}}, {'Joseph': {'Joseph of Arimathea': 6}, 'Joseph of Arimathea': {'Joseph': 6}, 'King Herod': {'God': 4, 'David': 30, 'Saul': 3}, 'God': {'King Herod': 4, 'Moses': 2, 'David': 15, 'Abraham': 1}, 'Moses': {'God': 2}, 'David': {'King Herod': 30, 'Saul': 2, 'God': 15}, 'Saul': {'King Herod': 3, 'David': 2}, 'Abraham': {'God': 1}}, {'King Herod': {'David': 11, 'God': 12}, 'David': {'King Herod': 11, 'God': 9}, 'God': {'Moses': 3, 'David': 9, 'King Herod': 12}, 'Moses': {'God': 3}}, {'King Herod': {'God': 7, 'David': 1}, 'God': {'King Herod': 7, 'Moses': 2, 'Jude': 1}, 'Moses': {'God': 2}, 'David': {'King Herod': 1}, 'Jude': {'God': 1}, 'Joseph': {'Joseph of Arimathea': 1}, 'Joseph of Arimathea': {'Joseph': 1}}, {'God': {'Moses': 1, 'King Herod': 2}, 'Moses': {'God': 1}, 'Joseph': {'Joseph of Arimathea': 1}, 'Joseph of Arimathea': {'Joseph': 1}, 'King Herod': {'God': 2}}, {}, {}, {'King Herod': {'God': 12, 'David': 1}, 'God': {'King Herod': 12, 'Abraham': 1}, 'Abraham': {'God': 1}, 'Joseph': {'Joseph of Arimathea': 5}, 'Joseph of Arimathea': {'Joseph': 5}, 'David': {'King Herod': 1}}, {'King Herod': {'David': 1}, 'David': {'King Herod': 1}}, {'King Herod': {'David': 1}, 'David': {'King Herod': 1}}, {}, {'King Herod': {'God': 6, 'David': 2}, 'God': {'King Herod': 6, 'David': 1}, 'David': {'King Herod': 2, 'God': 1}}, {'King Herod': {'David': 5, 'God': 4}, 'David': {'King Herod': 5, 'God': 1}, 'God': {'King Herod': 4, 'David': 1}}, {}, {'King Herod': {'God': 1, 'David': 1}, 'God': {'King Herod': 1, 'David': 1}, 'David': {'God': 1, 'King Herod': 1}, 'Joseph': {'Joseph of Arimathea': 4}, 'Joseph of Arimathea': {'Joseph': 4}}, {'King Herod': {'God': 9, 'Gabriel': 1}, 'God': {'King Herod': 9}, 'Gabriel': {'King Herod': 1}}, {'David': {'God': 1}, 'God': {'David': 1}}, {}, {'Joseph': {'Joseph of Arimathea': 3}, 'Joseph of Arimathea': {'Joseph': 3}, 'King Herod': {'God': 1}, 'God': {'King Herod': 1}}, {'Joseph': {'Joseph of Arimathea': 1}, 'Joseph of Arimathea': {'Joseph': 1}}, {'God': {'Jonah': 2}, 'Jonah': {'God': 2}}, {}, {}, {}, {}, {}, {'Joseph': {'Joseph of Arimathea': 1}, 'Joseph of Arimathea': {'Joseph': 1}, 'David': {'God': 1}, 'God': {'David': 1}}, {'King Herod': {'James': 1, 'James son of Alphaneus': 1}, 'James': {'King Herod': 1, 'James son of Alphaneus': 1}, 'James son of Alphaneus': {'King Herod': 1, 'James': 1}}, {'David': {'Jesus Christ': 1, 'King Herod': 1, 'Abraham': 1, 'Joseph': 1, 'Joseph of Arimathea': 1}, 'Jesus Christ': {'David': 1, 'Mary': 2, 'Joseph of Arimathea': 2, 'Joseph': 2, 'Mary Magdalene': 2, 'John': 3, 'King Herod': 5, 'Simon the Canaanite': 3, 'God': 2, 'Caesar': 2, 'Philip': 1, 'James son of Alphaneus': 1, 'James': 1, 'Elias': 1, 'Devil': 1, 'Barabbas': 2, 'Pilate': 2}, 'Judas': {'Abraham': 1, 'Simon the Canaanite': 2, 'James': 1, 'James son of Alphaneus': 1}, 'Abraham': {'Judas': 1, 'David': 1, 'God': 2, 'King Herod': 1}, 'King Herod': {'David': 1, 'Simon the Canaanite': 2, 'Jesus Christ': 5, 'God': 4, 'Abraham': 1, 'John': 2, 'Devil': 1, 'Elias': 1, 'Moses': 1}, 'Mary': {'Joseph of Arimathea': 2, 'Jesus Christ': 2, 'Joseph': 2, 'Mary Magdalene': 9, 'James': 1, 'James son of Alphaneus': 1}, 'Joseph of Arimathea': {'Mary': 2, 'Jesus Christ': 2, 'Joseph': 9, 'Mary Magdalene': 2, 'David': 1}, 'Joseph': {'Mary': 2, 'Joseph of Arimathea': 9, 'Jesus Christ': 2, 'Mary Magdalene': 2, 'David': 1}, 'Mary Magdalene': {'Mary': 9, 'Joseph of Arimathea': 2, 'Jesus Christ': 2, 'Joseph': 2, 'James': 1, 'James son of Alphaneus': 1}, 'God': {'Abraham': 2, 'King Herod': 4, 'Jesus Christ': 2, 'Devil': 1, 'Caesar': 1}, 'John': {'Jesus Christ': 3, 'Bartholomew': 1, 'Thomas': 1, 'Philip': 1, 'King Herod': 2, 'James son of Alphaneus': 1, 'James': 1}, 'Simon the Canaanite': {'King Herod': 2, 'Jesus Christ': 3, 'Judas': 2, 'James': 1, 'James son of Alphaneus': 1}, 'James': {'James son of Alphaneus': 6, 'Andrew': 1, 'Matthew': 1, 'Simon the Canaanite': 1, 'Judas': 1, 'John': 1, 'Jesus Christ': 1, 'Mary': 1, 'Mary Magdalene': 1}, 'James son of Alphaneus': {'James': 6, 'Andrew': 1, 'Matthew': 1, 'Simon the Canaanite': 1, 'Judas': 1, 'John': 1, 'Jesus Christ': 1, 'Mary': 1, 'Mary Magdalene': 1}, 'Andrew': {'James son of Alphaneus': 1, 'James': 1}, 'Bartholomew': {'John': 1, 'Thomas': 1, 'Philip': 1}, 'Thomas': {'John': 1, 'Bartholomew': 1, 'Philip': 1}, 'Philip': {'John': 1, 'Bartholomew': 1, 'Thomas': 1, 'Caesar': 1, 'Jesus Christ': 1}, 'Matthew': {'James': 1, 'James son of Alphaneus': 1}, 'Devil': {'King Herod': 1, 'God': 1, 'Jesus Christ': 1}, 'Caesar': {'Philip': 1, 'Jesus Christ': 2, 'God': 1}, 'Elias': {'King Herod': 1, 'Moses': 2, 'Jesus Christ': 1}, 'Moses': {'King Herod': 1, 'Elias': 2}, 'Barabbas': {'Jesus Christ': 2}, 'Pilate': {'Jesus Christ': 2}}, {'God': {'Jesus Christ': 3, 'King Herod': 15, 'Caesar': 1, 'Moses': 1, 'Abraham': 1}, 'Jesus Christ': {'God': 3, 'John': 1, 'Caesar': 2, 'James': 1, 'James son of Alphaneus': 1, 'King Herod': 2, 'David': 1, 'Pilate': 3}, 'John': {'Jesus Christ': 1, 'James': 7, 'Simon the Canaanite': 1, 'James son of Alphaneus': 7, 'Andrew': 2}, 'King Herod': {'God': 15, 'Jesus Christ': 2, 'David': 1, 'Pilate': 1, 'Mary': 1, 'Mary Magdalene': 1}, 'Andrew': {'Simon the Canaanite': 2, 'James': 2, 'John': 2, 'James son of Alphaneus': 2, 'Bartholomew': 1, 'Philip': 1, 'Thomas': 1, 'Matthew': 1}, 'Simon the Canaanite': {'Andrew': 2, 'James': 2, 'John': 1, 'James son of Alphaneus': 2, 'Devil': 1}, 'James': {'James son of Alphaneus': 14, 'John': 7, 'Simon the Canaanite': 2, 'Andrew': 2, 'Mary': 2, 'Mary Magdalene': 2, 'Jesus Christ': 1}, 'James son of Alphaneus': {'James': 14, 'John': 7, 'Simon the Canaanite': 2, 'Andrew': 2, 'Mary': 2, 'Mary Magdalene': 2, 'Jesus Christ': 1}, 'Devil': {'Simon the Canaanite': 1}, 'Bartholomew': {'Philip': 1, 'Andrew': 1, 'Thomas': 1, 'Matthew': 1}, 'Philip': {'Bartholomew': 1, 'Andrew': 1, 'Thomas': 1, 'Matthew': 1}, 'Thomas': {'Bartholomew': 1, 'Philip': 1, 'Andrew': 1, 'Matthew': 1}, 'Matthew': {'Bartholomew': 1, 'Philip': 1, 'Andrew': 1, 'Thomas': 1}, 'Mary': {'James': 2, 'Mary Magdalene': 6, 'James son of Alphaneus': 2, 'King Herod': 1}, 'Mary Magdalene': {'Mary': 6, 'James': 2, 'James son of Alphaneus': 2, 'King Herod': 1}, 'Caesar': {'Jesus Christ': 2, 'God': 1}, 'Elias': {'Moses': 2}, 'Moses': {'Elias': 2, 'God': 1}, 'David': {'Jesus Christ': 1, 'King Herod': 1}, 'Abraham': {'God': 1}, 'Pilate': {'Jesus Christ': 3, 'King Herod': 1, 'Barabbas': 1}, 'Barabbas': {'Pilate': 1}, 'Joseph': {'Joseph of Arimathea': 2}, 'Joseph of Arimathea': {'Joseph': 2}}, {'King Herod': {'God': 29, 'Devil': 1, 'Simon the Canaanite': 1, 'John': 1, 'Abraham': 1, 'Pilate': 1}, 'God': {'King Herod': 29, 'Gabriel': 1, 'David': 1, 'Jesus Christ': 1, 'John': 2, 'Devil': 2, 'Caesar': 1, 'Abraham': 1}, 'Gabriel': {'God': 1}, 'Joseph': {'David': 1, 'Joseph of Arimathea': 11, 'Mary Magdalene': 1, 'Mary': 1, 'Jesus Christ': 1}, 'David': {'Joseph': 1, 'Joseph of Arimathea': 1, 'God': 1, 'Jesus Christ': 1}, 'Joseph of Arimathea': {'Joseph': 11, 'David': 1, 'Mary Magdalene': 1, 'Mary': 1, 'Jesus Christ': 1}, 'Mary': {'Mary Magdalene': 16, 'Elisabeth': 1, 'Joseph': 1, 'Joseph of Arimathea': 1, 'Jesus Christ': 1, 'James': 1, 'James son of Alphaneus': 1}, 'Mary Magdalene': {'Mary': 16, 'Elisabeth': 1, 'Joseph': 1, 'Joseph of Arimathea': 1, 'Jesus Christ': 1, 'James': 1, 'James son of Alphaneus': 1}, 'Elisabeth': {'Mary': 1, 'Mary Magdalene': 1}, 'Jesus Christ': {'Joseph': 1, 'Joseph of Arimathea': 1, 'God': 1, 'Simon the Canaanite': 3, 'John': 2, 'Mary': 1, 'Mary Magdalene': 1, 'David': 1, 'Judas': 1, 'Pilate': 1}, 'John': {'God': 2, 'Simon the Canaanite': 1, 'Jesus Christ': 2, 'Philip': 1, 'James': 4, 'James son of Alphaneus': 4, 'Andrew': 1, 'King Herod': 1, 'Elias': 1, 'Devil': 1}, 'Devil': {'God': 2, 'King Herod': 1, 'John': 1}, 'Simon the Canaanite': {'King Herod': 1, 'Jesus Christ': 3, 'John': 1, 'James': 1, 'James son of Alphaneus': 1, 'Judas': 1}, 'James': {'James son of Alphaneus': 8, 'Philip': 1, 'John': 4, 'Andrew': 1, 'Bartholomew': 1, 'Thomas': 1, 'Matthew': 1, 'Simon the Canaanite': 1, 'Judas': 1, 'Mary': 1, 'Mary Magdalene': 1}, 'James son of Alphaneus': {'James': 8, 'Philip': 1, 'John': 4, 'Andrew': 1, 'Bartholomew': 1, 'Thomas': 1, 'Matthew': 1, 'Simon the Canaanite': 1, 'Judas': 1, 'Mary': 1, 'Mary Magdalene': 1}, 'Philip': {'James': 1, 'John': 1, 'James son of Alphaneus': 1, 'Andrew': 1}, 'Andrew': {'Philip': 1, 'James': 1, 'John': 1, 'James son of Alphaneus': 1}, 'Bartholomew': {'James': 1, 'James son of Alphaneus': 1, 'Thomas': 1, 'Matthew': 1}, 'Thomas': {'Bartholomew': 1, 'James': 1, 'James son of Alphaneus': 1, 'Matthew': 1}, 'Matthew': {'Bartholomew': 1, 'James': 1, 'James son of Alphaneus': 1, 'Thomas': 1}, 'Judas': {'James': 1, 'James son of Alphaneus': 1, 'Simon the Canaanite': 1, 'Jesus Christ': 1}, 'Elias': {'John': 1, 'Moses': 1}, 'Moses': {'Elias': 1, 'Abraham': 1}, 'Abraham': {'King Herod': 1, 'Lazarus': 1, 'Moses': 1, 'God': 1}, 'Lazarus': {'Abraham': 1}, 'Caesar': {'God': 1}, 'Pilate': {'King Herod': 1, 'Jesus Christ': 1}}, {'John': {'God': 1, 'Jesus Christ': 2}, 'God': {'John': 1, 'King Herod': 4, 'Jesus Christ': 3, 'Abraham': 1, 'Moses': 1, 'Thomas': 1}, 'Moses': {'Jesus Christ': 3, 'God': 1}, 'Jesus Christ': {'Moses': 3, 'John': 2, 'King Herod': 6, 'God': 3, 'Joseph': 2, 'Joseph of Arimathea': 2, 'Devil': 2, 'Nicodemus': 2, 'Abraham': 2, 'Lazarus': 3, 'Mary': 2, 'Mary Magdalene': 2, 'Judas': 3, 'Simon the Canaanite': 4, 'Pilate': 4, 'Thomas': 1}, 'King Herod': {'Jesus Christ': 6, 'God': 4, 'Pilate': 2, 'Caesar': 2}, 'Andrew': {'Simon the Canaanite': 2, 'Philip': 2}, 'Simon the Canaanite': {'Andrew': 2, 'Judas': 3, 'Devil': 1, 'Jesus Christ': 4, 'Peter:': 1, 'Thomas': 1}, 'Philip': {'Andrew': 2}, 'Joseph': {'Joseph of Arimathea': 4, 'Jesus Christ': 2}, 'Joseph of Arimathea': {'Joseph': 4, 'Jesus Christ': 2}, 'Judas': {'Simon the Canaanite': 3, 'Devil': 1, 'Jesus Christ': 3}, 'Devil': {'Judas': 1, 'Simon the Canaanite': 1, 'Jesus Christ': 2}, 'Nicodemus': {'Jesus Christ': 2}, 'Abraham': {'Jesus Christ': 2, 'God': 1}, 'Mary': {'Mary Magdalene': 14, 'Jesus Christ': 2}, 'Mary Magdalene': {'Mary': 14, 'Jesus Christ': 2}, 'Lazarus': {'Jesus Christ': 3}, 'Peter:': {'Simon the Canaanite': 1}, 'Pilate': {'King Herod': 2, 'Jesus Christ': 4}, 'Caesar': {'King Herod': 2}, 'Thomas': {'God': 1, 'Jesus Christ': 1, 'Simon the Canaanite': 1}}, {'Philip': {'James': 1, 'John': 1, 'James son of Alphaneus': 1, 'Andrew': 1, 'Stephen': 1, 'Caesar': 1}, 'James': {'Philip': 1, 'John': 2, 'James son of Alphaneus': 7, 'Andrew': 1, 'Bartholomew': 1, 'Simon the Canaanite': 1, 'Thomas': 1, 'Matthew': 1, 'Judas': 1, 'Paul': 1}, 'John': {'Philip': 1, 'James': 2, 'James son of Alphaneus': 2, 'Andrew': 1, 'God': 2, 'Mary': 1, 'Mary Magdalene': 1, 'Jesus Christ': 1, 'Paul': 1}, 'James son of Alphaneus': {'Philip': 1, 'James': 7, 'John': 2, 'Andrew': 1, 'Bartholomew': 1, 'Simon the Canaanite': 1, 'Thomas': 1, 'Matthew': 1, 'Judas': 1, 'Paul': 1}, 'Andrew': {'Philip': 1, 'James': 1, 'John': 1, 'James son of Alphaneus': 1}, 'Bartholomew': {'James': 1, 'Simon the Canaanite': 1, 'James son of Alphaneus': 1, 'Thomas': 1, 'Matthew': 1}, 'Simon the Canaanite': {'Bartholomew': 1, 'James': 1, 'James son of Alphaneus': 1, 'Thomas': 1, 'Matthew': 1, 'Peter:': 1}, 'Thomas': {'Bartholomew': 1, 'James': 1, 'Simon the Canaanite': 1, 'James son of Alphaneus': 1, 'Matthew': 1}, 'Matthew': {'Bartholomew': 1, 'James': 1, 'Simon the Canaanite': 1, 'James son of Alphaneus': 1, 'Thomas': 1}, 'Judas': {'James': 1, 'James son of Alphaneus': 1, 'Jesus Christ': 1}, 'Mary': {'Mary Magdalene': 2, 'Jesus Christ': 1, 'John': 1}, 'Mary Magdalene': {'Mary': 2, 'Jesus Christ': 1, 'John': 1}, 'Jesus Christ': {'Mary': 1, 'Mary Magdalene': 1, 'Judas': 1, 'God': 8, 'King Herod': 2, 'Saul': 1, 'John': 1, 'Paul': 2, 'Moses': 1}, 'Joseph': {'Joseph of Arimathea': 6, 'King Herod': 1}, 'Joseph of Arimathea': {'Joseph': 6, 'King Herod': 1}, 'God': {'Jesus Christ': 8, 'King Herod': 7, 'Abraham': 3, 'Moses': 3, 'David': 1, 'Stephen': 1, 'John': 2, 'Cornelius': 1, 'Devil': 1, 'Saul': 1, 'Paul': 6, 'Caesar': 1}, 'King Herod': {'God': 7, 'Joseph': 1, 'Joseph of Arimathea': 1, 'Moses': 1, 'Jesus Christ': 2, 'Saul': 2, 'Paul': 1}, 'Abraham': {'God': 3}, 'Stephen': {'Philip': 1, 'God': 1}, 'Moses': {'God': 3, 'King Herod': 1, 'Jesus Christ': 1}, 'David': {'God': 1}, 'Saul': {'Jesus Christ': 1, 'Paul': 1, 'King Herod': 2, 'God': 1}, 'Cornelius': {'Caesar': 2, 'God': 1}, 'Caesar': {'Cornelius': 2, 'Philip': 1, 'Paul': 2, 'God': 1}, 'Peter:': {'Simon the Canaanite': 1}, 'Devil': {'God': 1}, 'Paul': {'Saul': 1, 'King Herod': 1, 'God': 6, 'Timotheus': 1, 'John': 1, 'Jesus Christ': 2, 'Gaius': 1, 'James': 1, 'James son of Alphaneus': 1, 'Caesar': 2}, 'Timotheus': {'Paul': 1}, 'Gaius': {'Paul': 1}}, {'Paul': {'Jesus Christ': 1}, 'Jesus Christ': {'Paul': 1, 'God': 9}, 'God': {'Jesus Christ': 9, 'Abraham': 1, 'Elias': 1}, 'Abraham': {'God': 1}, 'Elias': {'God': 1}, 'Mary': {'Mary Magdalene': 1}, 'Mary Magdalene': {'Mary': 1}}, {'Paul': {'Jesus Christ': 1, 'God': 1}, 'Jesus Christ': {'Paul': 1, 'God': 3}, 'God': {'Jesus Christ': 3, 'Paul': 1, 'King Herod': 3, 'Devil': 1}, 'King Herod': {'God': 3}, 'Devil': {'God': 1}, 'James': {'James son of Alphaneus': 1}, 'James son of Alphaneus': {'James': 1}}, {'Paul': {'God': 1, 'Jesus Christ': 1}, 'God': {'Paul': 1, 'Jesus Christ': 6, 'King Herod': 1}, 'Jesus Christ': {'Paul': 1, 'God': 6}, 'King Herod': {'Titus': 1, 'God': 1}, 'Titus': {'King Herod': 1}}, {'Paul': {'Jesus Christ': 1}, 'Jesus Christ': {'Paul': 1, 'God': 3}, 'God': {'Jesus Christ': 3, 'Abraham': 2}, 'James': {'James son of Alphaneus': 3, 'John': 1}, 'James son of Alphaneus': {'James': 3, 'John': 1}, 'John': {'James son of Alphaneus': 1, 'James': 1}, 'Abraham': {'God': 2}}, {'Paul': {'God': 1, 'Jesus Christ': 2}, 'God': {'Paul': 1, 'Jesus Christ': 3, 'King Herod': 2}, 'Jesus Christ': {'Paul': 2, 'God': 3}, 'King Herod': {'God': 2}}, {'Paul': {'Timotheus': 1, 'Jesus Christ': 1}, 'Timotheus': {'Paul': 1, 'Jesus Christ': 2}, 'Jesus Christ': {'Paul': 1, 'Timotheus': 2, 'Philip': 1, 'God': 1}, 'Philip': {'Jesus Christ': 1}, 'God': {'Jesus Christ': 1}}, {'Paul': {'God': 1, 'Jesus Christ': 1}, 'God': {'Paul': 1, 'Jesus Christ': 4, 'King Herod': 1}, 'Jesus Christ': {'Paul': 1, 'God': 4}, 'King Herod': {'God': 1}}, {'Paul': {'Timotheus': 1}, 'Timotheus': {'Paul': 1}, 'God': {'Jesus Christ': 3, 'King Herod': 2}, 'Jesus Christ': {'God': 3}, 'King Herod': {'God': 2}}, {'Paul': {'Timotheus': 1}, 'Timotheus': {'Paul': 1}, 'God': {'Jesus Christ': 5, 'King Herod': 1}, 'Jesus Christ': {'God': 5}, 'King Herod': {'God': 1}}, {'Paul': {'God': 1, 'Jesus Christ': 1}, 'God': {'Paul': 1, 'Jesus Christ': 2}, 'Jesus Christ': {'Paul': 1, 'God': 2, 'Pilate': 1}, 'King Herod': {'Devil': 1}, 'Devil': {'King Herod': 1}, 'Pilate': {'Jesus Christ': 1}}, {'Paul': {'God': 1, 'Jesus Christ': 1}, 'God': {'Paul': 1, 'Jesus Christ': 3}, 'Jesus Christ': {'Paul': 1, 'God': 3, 'David': 1}, 'David': {'Jesus Christ': 1}}, {'Paul': {'God': 1, 'Jesus Christ': 1}, 'God': {'Paul': 1, 'Jesus Christ': 2, 'Titus': 1}, 'Jesus Christ': {'Paul': 1, 'God': 2}, 'Titus': {'God': 1}}, {'Paul': {'Jesus Christ': 1}, 'Jesus Christ': {'Paul': 1}, 'King Herod': {'God': 1}, 'God': {'King Herod': 1}}, {'God': {'Jesus Christ': 1, 'Abraham': 1, 'King Herod': 1}, 'Jesus Christ': {'God': 1, 'King Herod': 1}, 'Abraham': {'God': 1, 'King Herod': 1}, 'King Herod': {'God': 1, 'Abraham': 1, 'Jesus Christ': 1}, 'Joseph': {'Joseph of Arimathea': 2}, 'Joseph of Arimathea': {'Joseph': 2}}, {'James': {'God': 1, 'James son of Alphaneus': 1, 'Jesus Christ': 1}, 'God': {'James': 1, 'James son of Alphaneus': 1, 'Jesus Christ': 1, 'Devil': 2, 'Abraham': 1}, 'James son of Alphaneus': {'James': 1, 'God': 1, 'Jesus Christ': 1}, 'Jesus Christ': {'James': 1, 'God': 1, 'James son of Alphaneus': 1}, 'Devil': {'God': 2}, 'Abraham': {'God': 1}}, {'God': {'Jesus Christ': 3, 'King Herod': 1}, 'Jesus Christ': {'God': 3}, 'King Herod': {'God': 1}}, {'Simon the Canaanite': {'Jesus Christ': 1}, 'Jesus Christ': {'Simon the Canaanite': 1, 'God': 2, 'King Herod': 1}, 'God': {'Jesus Christ': 2, 'King Herod': 1}, 'King Herod': {'Jesus Christ': 1, 'God': 1}}, {'God': {'Devil': 1, 'Jesus Christ': 5}, 'Devil': {'God': 1}, 'Jesus Christ': {'God': 5}}, {}, {}, {'Jude': {'James': 1, 'James son of Alphaneus': 1, 'Jesus Christ': 1}, 'James': {'Jude': 1, 'James son of Alphaneus': 1, 'Jesus Christ': 1}, 'James son of Alphaneus': {'Jude': 1, 'James': 1, 'Jesus Christ': 1}, 'Jesus Christ': {'Jude': 1, 'James': 1, 'James son of Alphaneus': 1, 'God': 1, 'King Herod': 1}, 'God': {'Jesus Christ': 1}, 'King Herod': {'Jesus Christ': 1}}, {'God': {'Jesus Christ': 6, 'King Herod': 4, 'Moses': 1, 'John': 1}, 'Jesus Christ': {'God': 6, 'King Herod': 1}, 'King Herod': {'God': 4, 'Jesus Christ': 1, 'Devil': 1, 'James': 2, 'James son of Alphaneus': 2}, 'Joseph': {'Joseph of Arimathea': 1}, 'Joseph of Arimathea': {'Joseph': 1}, 'Moses': {'God': 1}, 'Devil': {'King Herod': 1}, 'John': {'God': 1}, 'James': {'King Herod': 2, 'James son of Alphaneus': 2}, 'James son of Alphaneus': {'King Herod': 2, 'James': 2}}]\n"
     ]
    }
   ],
   "source": [
    "conns = analyze_conns(narrative, characters)\n",
    "print(conns)"
   ]
  },
  {
   "cell_type": "markdown",
   "metadata": {},
   "source": [
    "But there is only one list that has no way to make a graph. \n",
    "\n",
    "We need data in the form of a dataframe. \n",
    "\n",
    "So the function of this part is to convert the previously obtained list of location relationships into data in the form of dataframe.\n",
    "\n",
    "*What is the data in the form of dataframe?* [here](https://pandas.pydata.org/pandas-docs/stable/reference/api/pandas.DataFrame.html) is information for dataframe.\n",
    "\n"
   ]
  },
  {
   "cell_type": "code",
   "execution_count": 20,
   "metadata": {
    "scrolled": true
   },
   "outputs": [
    {
     "name": "stdout",
     "output_type": "stream",
     "text": [
      "                     King Herod   God  Abraham  Joseph  Joseph of Arimathea\n",
      "God                         2.0   NaN     18.0    13.0                 13.0\n",
      "Abraham                     3.0  18.0      NaN     NaN                  NaN\n",
      "Joseph                      1.0  13.0      NaN     NaN                154.0\n",
      "Joseph of Arimathea         1.0  13.0      NaN   154.0                  NaN\n",
      "King Herod                  NaN   2.0      3.0     1.0                  1.0\n"
     ]
    }
   ],
   "source": [
    "# Sets the chapter where you want to view the relationship\n",
    "chapter = 0\n",
    "connsD = pd.DataFrame(conns[chapter])\n",
    "print(connsD)"
   ]
  },
  {
   "cell_type": "markdown",
   "metadata": {},
   "source": [
    "**Make the Visualisation**\n",
    "\n",
    "The function of this part is to make a visual picture. A visual image representing the relationship of the characters is created by the heatmap in the seaborn library.\n",
    "\n",
    "[More](http://seaborn.pydata.org/generated/seaborn.heatmap.html) information for Heatmap in SeaBorn."
   ]
  },
  {
   "cell_type": "markdown",
   "metadata": {},
   "source": [
    "The numbers in the picture represent the relationship between the characters and the characters. \n",
    "\n",
    "We can see that in this example, the relationship between Abraham and God is 18, which shows a strong relationship between the characters in the text. \n",
    "These two tasks are also the main characters in the whole novel. \n",
    "\n",
    "\n",
    "We can observe the depth of the relationship of the characters through the depth of the color. The darker the color, the closer the relationship between the characters."
   ]
  },
  {
   "cell_type": "code",
   "execution_count": 21,
   "metadata": {},
   "outputs": [
    {
     "data": {
      "text/plain": [
       "<matplotlib.axes._subplots.AxesSubplot at 0x1408f97f880>"
      ]
     },
     "execution_count": 21,
     "metadata": {},
     "output_type": "execute_result"
    },
    {
     "data": {
      "image/png": "[encoded data removed]",
      "text/plain": [
       "<Figure size 792x648 with 2 Axes>"
      ]
     },
     "metadata": {},
     "output_type": "display_data"
    }
   ],
   "source": [
    "sns.set(style=\"white\")\n",
    "\n",
    "# Generate a mask for the upper triangle\n",
    "mask = np.zeros_like(connsD, dtype=np.bool)\n",
    "mask[np.triu_indices_from(mask)] = True\n",
    "\n",
    "# Set up the matplotlib figure\n",
    "f, ax = plt.subplots(figsize=(11, 9))\n",
    "\n",
    "# Generate a custom diverging colormap\n",
    "cmap = sns.diverging_palette(220, 10, as_cmap=True)\n",
    "\n",
    "# Draw the heatmap with the mask and correct aspect ratio\n",
    "sns.heatmap(connsD, cmap=cmap, vmax=160, vmin=0,center=0,\n",
    "            square=True,annot=True, linewidths=.5, cbar_kws={\"shrink\": .5})\n"
   ]
  },
  {
   "cell_type": "markdown",
   "metadata": {},
   "source": [
    "## calculate the relationship between locations\n",
    "Similar to the character relationship analysis in the novel, the only difference is that in the process of analysis, the original place name replaces the name.\n"
   ]
  },
  {
   "cell_type": "code",
   "execution_count": 22,
   "metadata": {},
   "outputs": [],
   "source": [
    "def extract_location_from_chapter(chapter):\n",
    "    '''\n",
    "\n",
    "    :param chapter: chapter to be analyzed\n",
    "    :return: location_conns: connections between locations\n",
    "    '''\n",
    "    title = chapter[0]\n",
    "    paragraphs = chapter[1:]\n",
    "    entities = [(extract_location_from_text(paragraph), paragraph) for paragraph in paragraphs]\n",
    "    entities = [pair for pair in entities if len(pair[0]) != 0]\n",
    "\n",
    "    connections = {}\n",
    "    for pair in entities:\n",
    "        entity = set(pair[0])\n",
    "        if len(entity) <= 1:\n",
    "            continue\n",
    "        entity = list(entity)\n",
    "        for ind in range(0, len(entity)):\n",
    "            for other_ind in range(ind + 1, len(entity)):\n",
    "                a = entity[ind]\n",
    "                b = entity[other_ind]\n",
    "                if a not in connections:\n",
    "                    connections[a] = {}\n",
    "                if b not in connections[a]:\n",
    "                    connections[a][b] = 0\n",
    "                connections[a][b] += 1\n",
    "\n",
    "                if b not in connections:\n",
    "                    connections[b] = {}\n",
    "                if a not in connections[b]:\n",
    "                    connections[b][a] = 0\n",
    "                connections[b][a] += 1\n",
    "\n",
    "    return connections"
   ]
  },
  {
   "cell_type": "code",
   "execution_count": 23,
   "metadata": {},
   "outputs": [],
   "source": [
    "def analyze_location_conns(path, location_path=\"\"):\n",
    "    document = read_doc_n_prep(path)\n",
    "    document = split_chapters(document, \"Chapter\")\n",
    "    locations = []\n",
    "    with open(location_path) as file:\n",
    "        locations = file.readlines()\n",
    "        locations = [i.strip() for i in locations]\n",
    "        #print(locations)\n",
    "    if len(locations) != 0:\n",
    "        location_conn = [extract_location_with_list(chapter, locations) for chapter in document]\n",
    "    else:\n",
    "        location_conn = [extract_location_from_chapter(chapter) for chapter in document]\n",
    "    return location_conn"
   ]
  },
  {
   "cell_type": "markdown",
   "metadata": {},
   "source": [
    "The numbers shown below are the relationship between locations, which is a list of location relationships. The strength between the numbers is shown. If we can see that their relationship between the two places \"Israel\" and \"Galilee\" is 2, it means that the relationship between the two locations appears in two sentences at the same time."
   ]
  },
  {
   "cell_type": "code",
   "execution_count": 24,
   "metadata": {
    "scrolled": true
   },
   "outputs": [
    {
     "name": "stdout",
     "output_type": "stream",
     "text": [
      "0 {'heaven': {'earth': 11}, 'earth': {'heaven': 11}, 'Allonbachuth': {'Bethel': 1}, 'Bethel': {'Allonbachuth': 1}}\n",
      "1 {'heaven': {'earth': 3}, 'earth': {'heaven': 3}}\n",
      "2 {'heaven': {'earth': 1}, 'earth': {'heaven': 1}}\n",
      "3 {}\n",
      "4 {'heaven': {'earth': 9}, 'earth': {'heaven': 9}}\n",
      "5 {'heaven': {'earth': 1}, 'earth': {'heaven': 1}, 'Jericho': {'Bethel': 2}, 'Bethel': {'Jericho': 2}}\n",
      "6 {'Edom': {'heaven': 1, 'earth': 1}, 'heaven': {'Edom': 1, 'earth': 1}, 'earth': {'Edom': 1, 'heaven': 1}}\n",
      "7 {}\n",
      "8 {'Bethlehem': {'Ephrath': 1}, 'Ephrath': {'Bethlehem': 1}}\n",
      "9 {'heaven': {'earth': 1}, 'earth': {'heaven': 1}}\n",
      "10 {'heaven': {'earth': 2}, 'earth': {'heaven': 2}, 'Jericho': {'Bethel': 1}, 'Bethel': {'Jericho': 1}}\n",
      "11 {'heaven': {'earth': 1}, 'earth': {'heaven': 1}}\n",
      "12 {'heaven': {'earth': 2}, 'earth': {'heaven': 2}}\n",
      "13 {'heaven': {'earth': 3}, 'earth': {'heaven': 3}}\n",
      "14 {'heaven': {'earth': 1}, 'earth': {'heaven': 1}}\n",
      "15 {'heaven': {'earth': 1}, 'earth': {'heaven': 1}}\n",
      "16 {}\n",
      "17 {'heaven': {'earth': 1}, 'earth': {'heaven': 1}}\n",
      "18 {'heaven': {'earth': 16}, 'earth': {'heaven': 16}}\n",
      "19 {'heaven': {'earth': 1}, 'earth': {'heaven': 1}}\n",
      "20 {'heaven': {'earth': 1}, 'earth': {'heaven': 1}}\n",
      "21 {}\n",
      "22 {'heaven': {'earth': 12}, 'earth': {'heaven': 12}}\n",
      "23 {'heaven': {'earth': 8}, 'earth': {'heaven': 8}}\n",
      "24 {'heaven': {'earth': 1}, 'earth': {'heaven': 1}}\n",
      "25 {}\n",
      "26 {'heaven': {'earth': 3}, 'earth': {'heaven': 3}}\n",
      "27 {'heaven': {'earth': 1}, 'earth': {'heaven': 1}}\n",
      "28 {'heaven': {'earth': 3}, 'earth': {'heaven': 3}}\n",
      "29 {}\n",
      "30 {}\n",
      "31 {}\n",
      "32 {}\n",
      "33 {}\n",
      "34 {'heaven': {'earth': 1}, 'earth': {'heaven': 1}}\n",
      "35 {}\n",
      "36 {'heaven': {'earth': 3}, 'earth': {'heaven': 3}}\n",
      "37 {'heaven': {'earth': 1}, 'earth': {'heaven': 1}}\n",
      "38 {}\n",
      "39 {'Galilee': {'Nazareth': 3}, 'Nazareth': {'Galilee': 3}, 'heaven': {'earth': 7, 'Capernaum': 1}, 'earth': {'heaven': 7}, 'Capernaum': {'heaven': 1}}\n",
      "40 {'Galilee': {'Decapolis': 1}, 'Decapolis': {'Galilee': 1}, 'Bethany': {'Bethphage': 1}, 'Bethphage': {'Bethany': 1}}\n",
      "41 {'Galilee': {'Nazareth': 3, 'Capernaum': 1, 'Samaria': 1}, 'Nazareth': {'Galilee': 3}, 'Capernaum': {'Galilee': 1, 'heaven': 1}, 'heaven': {'Capernaum': 1, 'earth': 3}, 'earth': {'heaven': 3}, 'Samaria': {'Galilee': 1}}\n",
      "42 {'Galilee': {'Cana': 4}, 'Cana': {'Galilee': 4}, 'heaven': {'earth': 1}, 'earth': {'heaven': 1}}\n",
      "43 {'Samaria': {'earth': 1}, 'earth': {'Samaria': 1, 'heaven': 3}, 'Galilee': {'heaven': 1}, 'heaven': {'Galilee': 1, 'earth': 3}}\n",
      "44 {}\n",
      "45 {}\n",
      "46 {}\n",
      "47 {}\n",
      "48 {'heaven': {'earth': 2}, 'earth': {'heaven': 2}}\n",
      "49 {'heaven': {'earth': 1}, 'earth': {'heaven': 1}}\n",
      "50 {'heaven': {'earth': 1}, 'earth': {'heaven': 1}}\n",
      "51 {}\n",
      "52 {}\n",
      "53 {}\n",
      "54 {}\n",
      "55 {}\n",
      "56 {}\n",
      "57 {'heaven': {'earth': 2}, 'earth': {'heaven': 2}}\n",
      "58 {'heaven': {'earth': 1}, 'earth': {'heaven': 1}}\n",
      "59 {}\n",
      "60 {'heaven': {'earth': 3}, 'earth': {'heaven': 3}}\n",
      "61 {}\n",
      "62 {}\n",
      "63 {}\n",
      "64 {}\n",
      "65 {'heaven': {'earth': 7}, 'earth': {'heaven': 7}}\n"
     ]
    },
    {
     "data": {
      "text/plain": [
       "[None,\n",
       " None,\n",
       " None,\n",
       " None,\n",
       " None,\n",
       " None,\n",
       " None,\n",
       " None,\n",
       " None,\n",
       " None,\n",
       " None,\n",
       " None,\n",
       " None,\n",
       " None,\n",
       " None,\n",
       " None,\n",
       " None,\n",
       " None,\n",
       " None,\n",
       " None,\n",
       " None,\n",
       " None,\n",
       " None,\n",
       " None,\n",
       " None,\n",
       " None,\n",
       " None,\n",
       " None,\n",
       " None,\n",
       " None,\n",
       " None,\n",
       " None,\n",
       " None,\n",
       " None,\n",
       " None,\n",
       " None,\n",
       " None,\n",
       " None,\n",
       " None,\n",
       " None,\n",
       " None,\n",
       " None,\n",
       " None,\n",
       " None,\n",
       " None,\n",
       " None,\n",
       " None,\n",
       " None,\n",
       " None,\n",
       " None,\n",
       " None,\n",
       " None,\n",
       " None,\n",
       " None,\n",
       " None,\n",
       " None,\n",
       " None,\n",
       " None,\n",
       " None,\n",
       " None,\n",
       " None,\n",
       " None,\n",
       " None,\n",
       " None,\n",
       " None,\n",
       " None]"
      ]
     },
     "execution_count": 24,
     "metadata": {},
     "output_type": "execute_result"
    }
   ],
   "source": [
    "location = analyze_location_conns(narrative, locations)\n",
    "[print(i,l) for i,l in enumerate(location)]"
   ]
  },
  {
   "cell_type": "markdown",
   "metadata": {},
   "source": [
    "But there is only one list that has no way to make a graph. \n",
    "\n",
    "We need data in the form of a dataframe. \n",
    "\n",
    "So the function of this part is to convert the previously obtained list of location relationships into data in the form of dataframe.\n"
   ]
  },
  {
   "cell_type": "code",
   "execution_count": 25,
   "metadata": {
    "scrolled": true
   },
   "outputs": [
    {
     "name": "stdout",
     "output_type": "stream",
     "text": [
      "              heaven  earth  Allonbachuth  Bethel\n",
      "earth           11.0    NaN           NaN     NaN\n",
      "heaven           NaN   11.0           NaN     NaN\n",
      "Bethel           NaN    NaN           1.0     NaN\n",
      "Allonbachuth     NaN    NaN           NaN     1.0\n"
     ]
    }
   ],
   "source": [
    "# Sets the chapter where you want to view the relationship\n",
    "chapter = 0\n",
    "location = pd.DataFrame(location[chapter])\n",
    "print(location)"
   ]
  },
  {
   "cell_type": "markdown",
   "metadata": {},
   "source": [
    "The numbers in the picture represent the relationship between the locatios.\n",
    "\n",
    "We can see that in this example, the relationship between Heaven and Earth is 2, which is the deepest relationship between the characters in the full text. \n",
    "\n",
    "We can observe the depth of the relationship of the characters through the depth of the color. The darker the color, the closer the relationship between the locations."
   ]
  },
  {
   "cell_type": "code",
   "execution_count": 26,
   "metadata": {},
   "outputs": [
    {
     "data": {
      "text/plain": [
       "<matplotlib.axes._subplots.AxesSubplot at 0x1408de0bf40>"
      ]
     },
     "execution_count": 26,
     "metadata": {},
     "output_type": "execute_result"
    },
    {
     "data": {
      "image/png": "[encoded data removed]",
      "text/plain": [
       "<Figure size 792x648 with 2 Axes>"
      ]
     },
     "metadata": {},
     "output_type": "display_data"
    }
   ],
   "source": [
    "sns.set(style=\"white\")\n",
    "\n",
    "# Generate a mask for the upper triangle\n",
    "mask = np.zeros_like(location, dtype=np.bool)\n",
    "mask[np.triu_indices_from(mask)] = True\n",
    "\n",
    "# Set up the matplotlib figure\n",
    "f, ax = plt.subplots(figsize=(11, 9))\n",
    "\n",
    "# Generate a custom diverging colormap\n",
    "cmap = sns.diverging_palette(220, 10, as_cmap=True)\n",
    "\n",
    "# Draw the heatmap with the mask and correct aspect ratio\n",
    "sns.heatmap(location, mask=mask, cmap=cmap, vmax=15, vmin=0,center=0,\n",
    "            square=True,annot=True, linewidths=.5, cbar_kws={\"shrink\": .5})\n"
   ]
  },
  {
   "cell_type": "markdown",
   "metadata": {},
   "source": [
    "# Get Sentence Sentiment"
   ]
  },
  {
   "cell_type": "markdown",
   "metadata": {},
   "source": [
    "Now let's begin to make a visualization of Sentence Sentiment. This section is analyzed using the python `TextBlob` library."
   ]
  },
  {
   "cell_type": "markdown",
   "metadata": {},
   "source": [
    "We are going to use `TextBlob` to get sentence sentiment in this section.\n",
    "Let's check these function by using `TextBlob`"
   ]
  },
  {
   "cell_type": "code",
   "execution_count": 27,
   "metadata": {},
   "outputs": [],
   "source": [
    "sentenceExample = \"There were giants in the earth in those days; and also after that, when the sons of God came in unto the daughters of men, and they bare children to them, the same became mighty men which were of old, men of renown\""
   ]
  },
  {
   "cell_type": "code",
   "execution_count": 28,
   "metadata": {},
   "outputs": [
    {
     "name": "stdout",
     "output_type": "stream",
     "text": [
      "Sentiment(polarity=0.1375, subjectivity=0.33125)\n"
     ]
    }
   ],
   "source": [
    "exampleSentiment = TextBlob(sentenceExample).sentiment\n",
    "print(exampleSentiment)"
   ]
  },
  {
   "cell_type": "markdown",
   "metadata": {},
   "source": [
    "Now we can see that we have given us two values for the `TextBlob` analysis. `(polarity=1.0, subjectivity=1.0)` \n",
    "\n",
    "We can see that polarity is 1.0, which means that the statement is positive and 1.0 subjectivity refers, mostly, to public opinion and not factual information."
   ]
  },
  {
   "cell_type": "code",
   "execution_count": 29,
   "metadata": {},
   "outputs": [],
   "source": [
    "def sentiment_analysis_of_sentence(sentence):\n",
    "    '''\n",
    "\n",
    "    :param sentence: sentence waiting to be processed, a list of tokens\n",
    "    :return: sentiment polarity\n",
    "    '''\n",
    "    return TextBlob(sentence).sentiment.polarity\n"
   ]
  },
  {
   "cell_type": "code",
   "execution_count": 30,
   "metadata": {},
   "outputs": [],
   "source": [
    "def extract_sentiment_from_chapter(chapter):\n",
    "    '''\n",
    "\n",
    "    :param chapter: chapter waiting to be processed, a list of sentences\n",
    "    :return: [(sentence,sentiment)]\n",
    "    '''\n",
    "    title = chapter[0]\n",
    "    sentences = [sentence for paragraph in chapter[1:] for sentence in sent_tokenize(paragraph)]\n",
    "    sentiments = [(sentence, sentiment_analysis_of_sentence(sentence)) for sentence in sentences]\n",
    "    \n",
    "    return sentiments"
   ]
  },
  {
   "cell_type": "markdown",
   "metadata": {},
   "source": [
    "The function of this function `analyze_sents` is to analyze the emotions in each sentence of the novel through different chapters.\n",
    "\n",
    "Extract the different chapters in the article through the previously set functions `split_chapters`, and then separate the chapters, and put the emotions of each sentence in each chapter into the parameter `sentiment`."
   ]
  },
  {
   "cell_type": "code",
   "execution_count": 31,
   "metadata": {},
   "outputs": [],
   "source": [
    "def analyze_sents(path):\n",
    "    document =read_doc_n_prep(path)\n",
    "    document = split_chapters(document, \"Chapter\")\n",
    "    sentiment = [extract_sentiment_from_chapter(chapter) for chapter in document]\n",
    "    return sentiment"
   ]
  },
  {
   "cell_type": "code",
   "execution_count": 32,
   "metadata": {},
   "outputs": [
    {
     "name": "stdout",
     "output_type": "stream",
     "text": [
      "                                                      0    1\n",
      "0     1:1 Now these are the names of the children of...  0.0\n",
      "1     into Egypt; every man and his household came w...  0.0\n",
      "2     1:2 Reuben, Simeon, Levi, and Judah, 1:3 Issac...  0.0\n",
      "3      Benjamin, 1:4 Dan, and Naphtali, Gad, and Asher.  0.0\n",
      "4     1:5 And all the souls that came out of the loi...  0.0\n",
      "...                                                 ...  ...\n",
      "3129  cloud were not taken up, then they journeyed n...  0.0\n",
      "3130                                      was taken up.  0.0\n",
      "3131  40:38 For the cloud of the LORD was upon the t...  0.0\n",
      "3132  fire was on it by night, in the sight of all t...  0.0\n",
      "3133                     throughout all their journeys.  0.0\n",
      "\n",
      "[3134 rows x 2 columns]\n",
      "<class 'pandas.core.frame.DataFrame'>\n"
     ]
    }
   ],
   "source": [
    "sents = analyze_sents(narrative)\n",
    "sentimentD = pd.DataFrame(sents[1])\n",
    "print(sentimentD)\n",
    "print(type(sentimentD))"
   ]
  },
  {
   "cell_type": "code",
   "execution_count": 33,
   "metadata": {},
   "outputs": [
    {
     "data": {
      "image/png": "[encoded data removed]",
      "text/plain": [
       "<Figure size 432x288 with 1 Axes>"
      ]
     },
     "metadata": {},
     "output_type": "display_data"
    }
   ],
   "source": [
    "\n",
    "sns.set(style=\"darkgrid\")\n",
    "\n",
    "# Load an example dataset with long-form data\n",
    "# fmri = sns.load_dataset(\"fmri\")\n",
    "\n",
    "# Plot the responses for different events and regions\n",
    "ax1 = sns.barplot(x=0, y=1,data=sentimentD)\n",
    "for tick in ax1.get_xticklabels():\n",
    "    tick.set_rotation(90)\n",
    "\n"
   ]
  },
  {
   "cell_type": "markdown",
   "metadata": {},
   "source": [
    "# Calculate the similarity between chapters"
   ]
  },
  {
   "cell_type": "markdown",
   "metadata": {},
   "source": [
    "This part of the function is to understand the similarities between the chapters.\n"
   ]
  },
  {
   "cell_type": "markdown",
   "metadata": {},
   "source": [
    "**Tips** : For anyone interested in the details behind the TF-IDF process [I've got more information here.](https://nbviewer.jupyter.org/github/adelr/hcaproximity/blob/master/Proximity_and_Neighbourhood.ipynb)\n",
    "\n",
    "As well as, here is [information for Cosine Similarity.](https://www.machinelearningplus.com/nlp/cosine-similarity/)"
   ]
  },
  {
   "cell_type": "markdown",
   "metadata": {},
   "source": [
    "## calculate the similarity between chapters\n",
    "By using TF-IDF and Cosine Similarity, we will get the similarity between chapters. This is a call `analyze_cohesive` to calculate the similarity between sections. Here is an example of how we can get a lot of Numbers between 0 and 1 by printing them out. Given the size of the bible this may take some time. \n",
    "- For example, in the case of Bible, there are 66 chapters. In the first array, there are 66 Numbers, which represent the similarity between the first chapter and the corresponding 66 chapters.  We can see that the  number in column 3, 0.971380 , represents the similarities between chapter 1 and sheet 3 at 97.14 per cent"
   ]
  },
  {
   "cell_type": "code",
   "execution_count": 34,
   "metadata": {},
   "outputs": [],
   "source": [
    "def analyze_cohesive(path):\n",
    "    document = read_doc_n_prep(path)\n",
    "    document = split_chapters(document, \"Chapter\")\n",
    "    document_cohesiveness = [cohesiveness_between_chapters(document)]\n",
    "    document_cohesiveness = np.array(document_cohesiveness)\n",
    "    return document_cohesiveness"
   ]
  },
  {
   "cell_type": "markdown",
   "metadata": {},
   "source": [
    "Expect TF-IDF and Cosine Similarity, we also use Latent Semantic Index model to analysis.\n",
    "\n",
    "**Latent Semantic Index (LSI)**, also known as Latent Semantic Analysis (LSA), is mainly used to solve two types of problems. One is polysemy. For example, the term “bank” can refer to a bank or a river bank. One type is a multi-word, that is, a synonym problem, such as \"car\" and \"automobile\" have the same meaning, if in the process of retrieval, in calculating the similarity of these two types of problems, relying on the method of cosine similarity will This problem cannot be handled very well. Therefore, a method of latent semantic indexing is proposed, which uses SVD dimension reduction to map terms and texts to a new space"
   ]
  },
  {
   "cell_type": "code",
   "execution_count": 35,
   "metadata": {},
   "outputs": [],
   "source": [
    "def cohesiveness_between_chapters(document):\n",
    "    '''\n",
    "    Compute cohesiveness between chapters using latent semantic analysis\n",
    "    :param document: document to be processed, a list of chapters.\n",
    "    :return: cohesivess matrix\n",
    "    '''\n",
    "    document = [' '.join(chapter) for chapter in document]\n",
    "\n",
    "    document = [remove_stopwords(chapter).split() for chapter in document]\n",
    "    dictionary = corpora.Dictionary(document)\n",
    "\n",
    "    corpus = [dictionary.doc2bow(chapter) for chapter in document]\n",
    "\n",
    "    tfidf = models.TfidfModel(corpus)\n",
    "    corpus_tfidf = tfidf[corpus]\n",
    "\n",
    "    lsi = models.LsiModel(corpus_tfidf, id2word=dictionary, num_topics=2)\n",
    "    corpus_lsi = lsi[corpus_tfidf]\n",
    "\n",
    "    index = similarities.MatrixSimilarity(corpus_lsi)\n",
    "    sims = index[corpus_lsi]\n",
    "    # index = similarities.MatrixSimilarity(corpus_tfidf)// Similarity with tf-idf\n",
    "    # sims = index[corpus_tfidf]\n",
    "    #print(index)\n",
    "    #print(sims)\n",
    "    return sims"
   ]
  },
  {
   "cell_type": "markdown",
   "metadata": {},
   "source": [
    "\n",
    "This set of data is a cosine similarity in the form of a dataframe. *note the numbers on line 2 of this block of code refer to the number of chapters in the text being analysed. "
   ]
  },
  {
   "cell_type": "code",
   "execution_count": 36,
   "metadata": {},
   "outputs": [
    {
     "name": "stdout",
     "output_type": "stream",
     "text": [
      "          0         1         2         3         4         5         6   \\\n",
      "0   1.000000  0.980474  0.986824  0.971380  0.986369  0.959085  0.990170   \n",
      "1   0.980474  1.000000  0.999372  0.999123  0.999467  0.996033  0.998341   \n",
      "2   0.986824  0.999372  1.000000  0.997013  0.999996  0.992256  0.999754   \n",
      "3   0.971380  0.999123  0.997013  1.000000  0.997224  0.998885  0.995054   \n",
      "4   0.986369  0.999467  0.999996  0.997224  1.000000  0.992598  0.999688   \n",
      "..       ...       ...       ...       ...       ...       ...       ...   \n",
      "61  0.346687  0.155463  0.190358  0.113964  0.187619  0.066943  0.212087   \n",
      "62  0.238338  0.042700  0.078064  0.000830  0.075283 -0.046374  0.100159   \n",
      "63  0.498365  0.318144  0.351527  0.278169  0.348914  0.232520  0.372206   \n",
      "64  0.337470  0.145765  0.180719  0.104213  0.177975  0.057152  0.202491   \n",
      "65  0.866354  0.751224  0.774134  0.722928  0.772365  0.689509  0.787985   \n",
      "\n",
      "          7         8         9   ...        56        57        58        59  \\\n",
      "0   0.998532  0.984737  0.983663  ...  0.231705  0.618866  0.515554  0.316873   \n",
      "1   0.968382  0.999736  0.999857  ...  0.035881  0.452313  0.336985  0.124168   \n",
      "2   0.976611  0.999923  0.999829  ...  0.071260  0.483622  0.370125  0.159240   \n",
      "3   0.957087  0.997896  0.998271  ... -0.005994  0.414573  0.297267  0.082512   \n",
      "4   0.976008  0.999954  0.999877  ...  0.068477  0.481178  0.367532  0.156485   \n",
      "..       ...       ...       ...  ...       ...       ...       ...       ...   \n",
      "61  0.396987  0.178139  0.172166  ...  0.992784  0.951334  0.982452  0.999501   \n",
      "62  0.290595  0.065665  0.059610  ...  0.999977  0.910360  0.955041  0.996658   \n",
      "63  0.544595  0.339862  0.334150  ...  0.958847  0.989421  0.999801  0.980209   \n",
      "64  0.387964  0.168478  0.162495  ...  0.993912  0.948265  0.980575  0.999762   \n",
      "65  0.892135  0.766205  0.762292  ...  0.686577  0.928458  0.874592  0.748218   \n",
      "\n",
      "          60        61        62        63        64        65  \n",
      "0   0.345971  0.346687  0.238338  0.498365  0.337470  0.866354  \n",
      "1   0.154708  0.155463  0.042700  0.318144  0.145765  0.751224  \n",
      "2   0.189608  0.190358  0.078064  0.351527  0.180719  0.774134  \n",
      "3   0.113205  0.113964  0.000829  0.278169  0.104213  0.722928  \n",
      "4   0.186868  0.187619  0.075283  0.348914  0.177975  0.772365  \n",
      "..       ...       ...       ...       ...       ...       ...  \n",
      "61  1.000000  1.000000  0.993579  0.985975  0.999952  0.768810  \n",
      "62  0.993665  0.993579  1.000000  0.960763  0.994641  0.691523  \n",
      "63  0.985848  0.985976  0.960763  1.000000  0.984291  0.864750  \n",
      "64  0.999959  0.999952  0.994641  0.984291  1.000000  0.762500  \n",
      "65  0.768321  0.768810  0.691522  0.864750  0.762500  1.000000  \n",
      "\n",
      "[66 rows x 66 columns]\n"
     ]
    }
   ],
   "source": [
    "cohesiveness = analyze_cohesive(narrative)\n",
    "cohesiveness= np.reshape(cohesiveness,(-1,66))\n",
    "cohesiveness = pd.DataFrame(cohesiveness)\n",
    "print(cohesiveness)"
   ]
  },
  {
   "cell_type": "markdown",
   "metadata": {},
   "source": [
    "After getting the data in the form of dataframe, we pass it to the heatmap chart. The triangle below is formed to show the similarity between the chapters.\n",
    "The darker the colour, the higher the similarity. Through this picture we can see that the whole novel is talking about the same thing. Of course, it is obvious that there are also several blue squares in the triangle, which represents the negative correlation between the chapters. This proves that after calculation by the TF-IDF and Cosine Similarity algorithm, we believe that there is a negative correlation between the chapters, which only proves that there is little keywords in the chapters are particularly similar."
   ]
  },
  {
   "cell_type": "code",
   "execution_count": 37,
   "metadata": {},
   "outputs": [
    {
     "data": {
      "text/plain": [
       "<matplotlib.axes._subplots.AxesSubplot at 0x14092246280>"
      ]
     },
     "execution_count": 37,
     "metadata": {},
     "output_type": "execute_result"
    },
    {
     "data": {
      "image/png": "[encoded data removed]",
      "text/plain": [
       "<Figure size 792x648 with 2 Axes>"
      ]
     },
     "metadata": {},
     "output_type": "display_data"
    }
   ],
   "source": [
    "sns.set(style=\"white\")\n",
    "\n",
    "# Generate a mask for the upper triangle\n",
    "mask = np.zeros_like(cohesiveness, dtype=np.bool)\n",
    "mask[np.triu_indices_from(mask)] = True\n",
    "\n",
    "# Set up the matplotlib figure\n",
    "f, ax = plt.subplots(figsize=(11, 9))\n",
    "\n",
    "# Generate a custom diverging colormap\n",
    "cmap = sns.diverging_palette(220, 10, as_cmap=True)\n",
    "\n",
    "# Draw the heatmap with the mask and correct aspect ratio\n",
    "sns.heatmap(cohesiveness, mask=mask, cmap=cmap, vmax=1, vmin=-1,center=0,\n",
    "            square=True, linewidths=.5, cbar_kws={\"shrink\": .5})\n"
   ]
  },
  {
   "cell_type": "markdown",
   "metadata": {},
   "source": [
    "Note the changes in colour directly relate show the changes in the Bible from the Gospels to the Acts of the Apostles and the Epistles. "
   ]
  },
  {
   "cell_type": "markdown",
   "metadata": {},
   "source": [
    "## Attribution"
   ]
  },
  {
   "cell_type": "markdown",
   "metadata": {},
   "source": [
    "This notebook has been adapted from the work of Yuying Pei in 2019. "
   ]
  }
 ],
 "metadata": {
  "kernelspec": {
   "display_name": "Python 3",
   "language": "python",
   "name": "python3"
  },
  "language_info": {
   "codemirror_mode": {
    "name": "ipython",
    "version": 3
   },
   "file_extension": ".py",
   "mimetype": "text/x-python",
   "name": "python",
   "nbconvert_exporter": "python",
   "pygments_lexer": "ipython3",
   "version": "3.8.0"
  }
 },
 "nbformat": 4,
 "nbformat_minor": 4
}
