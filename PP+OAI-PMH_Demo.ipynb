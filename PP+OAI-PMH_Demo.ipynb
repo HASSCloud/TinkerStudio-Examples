{
 "cells": [
  {
   "cell_type": "code",
   "execution_count": null,
   "metadata": {},
   "outputs": [],
   "source": [
    "!pip install pyoai\n",
    "!pip install tabulate"
   ]
  },
  {
   "cell_type": "markdown",
   "metadata": {},
   "source": [
    "# Prosecution Project OAI-PMH Demo"
   ]
  },
  {
   "cell_type": "code",
   "execution_count": null,
   "metadata": {},
   "outputs": [],
   "source": [
    "# pyoai provides a nice python API for OAI-PMH (http://infrae.com/download/OAI/pyoai)\n",
    "from oaipmh.client import Client\n",
    "from oaipmh.metadata import MetadataRegistry, oai_dc_reader\n",
    "# other libraries we'll use\n",
    "from datetime import datetime\n",
    "from collections import defaultdict\n",
    "from IPython.display import HTML, display\n",
    "import tabulate"
   ]
  },
  {
   "cell_type": "markdown",
   "metadata": {},
   "source": [
    "Simple OAI-PMH harvester in Python:"
   ]
  },
  {
   "cell_type": "code",
   "execution_count": null,
   "metadata": {},
   "outputs": [],
   "source": [
    "URL = 'https://oai.prosecutionproject-test.griffith.edu.au/oai'\n",
    "records = []\n",
    "\n",
    "# setup harvester\n",
    "registry = MetadataRegistry()\n",
    "registry.registerReader('oai_dc', oai_dc_reader)\n",
    "client = Client(URL, registry, force_http_get=True)\n",
    "\n",
    "# track the start time of the harvest\n",
    "_start = datetime.now()\n",
    "\n",
    "# fetch all records from oai\n",
    "for record in client.listRecords(metadataPrefix='oai_dc'):\n",
    "    records.append(record[1].getMap())\n",
    "    \n",
    "# record finish time\n",
    "_finish = datetime.now()\n",
    "\n",
    "# work out how long the harvester took\n",
    "t_d = (_finish-_start).total_seconds()\n",
    "print(\"Harvested {} records in {} seconds\".format(len(records), t_d))"
   ]
  },
  {
   "cell_type": "markdown",
   "metadata": {},
   "source": [
    "Create a naive top 10 list of the most common offences in the data"
   ]
  },
  {
   "cell_type": "code",
   "execution_count": null,
   "metadata": {},
   "outputs": [],
   "source": [
    "# do a simple occurence count of offences (witout any datacleaning)\n",
    "offences = defaultdict(int)\n",
    "offpjur = defaultdict(lambda: defaultdict(int))\n",
    "jurisdiction = set()\n",
    "for _rec in records: \n",
    "    _offence = _rec['title'][0].split(',')[1].strip().title()\n",
    "    _jurisdiction = _rec['identifier'][0].split(':')[-1].split('/')[0]\n",
    "    jurisdiction.add(_jurisdiction)\n",
    "    offences[_offence] += 1    \n",
    "    offpjur[_jurisdiction][_offence] += 1\n",
    "    \n",
    "# remove unknown offences\n",
    "del(offences['[Unknown Offence]'])\n",
    "\n",
    "# find the top 10 offences across all records and juristictions \n",
    "top10 = [[_of, _count] for _of, _count in sorted(offences.items(), reverse=True, key=lambda x: x[1])[:10]]\n",
    "# Add the counts for each juristiction\n",
    "top10 = [row + [offpjur[_j][row[0]] for _j in sorted(list(jurisdiction))] for row in top10]\n",
    "\n",
    "# make it look pretty\n",
    "_headers = ['Offence', 'Total']+[x.replace('SC','') for x in sorted(list(jurisdiction))]\n",
    "display(HTML(tabulate.tabulate(top10, tablefmt='html', headers=_headers)))"
   ]
  }
 ],
 "metadata": {
  "kernelspec": {
   "display_name": "Environment (conda_py36)",
   "language": "python",
   "name": "conda_py36"
  },
  "language_info": {
   "codemirror_mode": {
    "name": "ipython",
    "version": 3
   },
   "file_extension": ".py",
   "mimetype": "text/x-python",
   "name": "python",
   "nbconvert_exporter": "python",
   "pygments_lexer": "ipython3",
   "version": "3.6.6"
  }
 },
 "nbformat": 4,
 "nbformat_minor": 2
}
