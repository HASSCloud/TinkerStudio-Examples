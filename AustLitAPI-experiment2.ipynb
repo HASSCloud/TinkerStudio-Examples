{
 "cells": [
  {
   "cell_type": "markdown",
   "metadata": {},
   "source": [
    "code compares output by gender over the given time frame\n",
    "requires no user inputs"
   ]
  },
  {
   "cell_type": "code",
   "execution_count": null,
   "metadata": {},
   "outputs": [],
   "source": []
  },
  {
   "cell_type": "code",
   "execution_count": 1,
   "metadata": {},
   "outputs": [
    {
     "name": "stdout",
     "output_type": "stream",
     "text": [
      "Please choose a form and work type to compare across genders.\n",
      "1=poetry in journals\n",
      "2=short stories in journals\n",
      "3=criticism in journals\n",
      "4=poetry in anthologies\n",
      "5=short stories in anthologies\n",
      "6=criticism in anthologies\n",
      "7=poetry in collections\n",
      "8=short stories in collections\n"
     ]
    },
    {
     "name": "stdin",
     "output_type": "stream",
     "text": [
      "Compare :  6\n"
     ]
    },
    {
     "name": "stdout",
     "output_type": "stream",
     "text": [
      "Search for male works complete (767 results)\n",
      "Search for female works complete (895 results)\n"
     ]
    },
    {
     "data": {
      "image/png": "[encoded data removed]",
      "text/plain": [
       "<Figure size 1440x864 with 1 Axes>"
      ]
     },
     "metadata": {
      "needs_background": "light"
     },
     "output_type": "display_data"
    }
   ],
   "source": [
    "import pandas as pd\n",
    "import matplotlib.pyplot as plt\n",
    "import requests \n",
    "import ipywidgets as widgets\n",
    "\n",
    "%matplotlib inline\n",
    "\n",
    "print(\"Please choose a form and work type to compare across genders.\")\n",
    "print(\"1=poetry in journals\")\n",
    "print(\"2=short stories in journals\")\n",
    "print(\"3=criticism in journals\")\n",
    "print(\"4=poetry in anthologies\")\n",
    "print(\"5=short stories in anthologies\")\n",
    "print(\"6=criticism in anthologies\")\n",
    "print(\"7=poetry in collections\")\n",
    "print(\"8=short stories in collections\")\n",
    "search1 = input(\"Compare : \")\n",
    "\n",
    "# default is the same as choosing \"1\"\n",
    "form = \"poetry\"\n",
    "workType = \"single%20work\"\n",
    "extra = \"%20AND%20(ftwcworktype:%22periodical%20issue%22)\"\n",
    "\n",
    "if search1 == \"2\":\n",
    "    form = \"short%20story\"\n",
    "elif search1 == \"3\":\n",
    "    form = \"criticism\"\n",
    "elif search1 == \"4\":\n",
    "    extra = \"%20AND%20(ftwcworktype:%22anthology%22)\"\n",
    "elif search1 == \"5\":\n",
    "    form = \"short%20story\"\n",
    "    extra = \"%20AND%20(ftwcworktype:%22anthology%22)\"\n",
    "elif search1 == \"6\":\n",
    "    form = \"criticism\"\n",
    "    extra = \"%20AND%20(ftwcworktype:%22anthology%22)\"\n",
    "elif search1 == \"7\":\n",
    "    workType = \"selected%20work\"\n",
    "    extra = \"\"\n",
    "elif search1 == \"8\":\n",
    "    form = \"short%20story\"\n",
    "    workType = \"selected%20work\"\n",
    "    extra = \"\"\n",
    "\n",
    "r = requests.get(\"https://www.austlit.edu.au/austlit/search?format=IdsOnly&facetValuesSize=0&facetSampleSize=0&passThru=y&count=11250&from=0&agentQuery=(agender:male)&workQuery=(wform:%22\" + form + \"%22)%20AND%20(wworkType:%22\" + workType + \"%22)%20AND%20(wdate:[2007%20TO%202016])\" + extra + \"&scope=work\", headers={\"accept\":\"application/json\"})\n",
    "j = r.json()\n",
    "search1res = pd.DataFrame.from_dict(j)\n",
    "\n",
    "searchstr1 = \"https://www.austlit.edu.au/austlit/export\"\n",
    "r2 = requests.post(searchstr1, data = {\"exportTemplate\":\"JSON\",\"disposition\":\"file\",\"downloadFileName\":\"export\",\"downloadFileExtension\":\"json\",\"nodes\":search1res[\"results\"]}, headers={\"accept\":\"application/json\"})\n",
    "j2 = r2.json()\n",
    "search1res2 = pd.DataFrame.from_dict(j2)\n",
    "print(\"Search for male works complete (\" + str(len(search1res2.index)) + \" results)\")\n",
    "\n",
    "#search2 = input(\"Compare to: \")\n",
    "r3 = requests.get(\"https://www.austlit.edu.au/austlit/search?format=IdsOnly&facetValuesSize=0&facetSampleSize=0&passThru=y&count=11250&from=0&agentQuery=(agender:female)&workQuery=(wform:%22\" + form + \"%22)%20AND%20(wworkType:%22\" + workType + \"%22)%20AND%20(wdate:[2007%20TO%202016])\" + extra + \"&scope=work\", headers={\"accept\":\"application/json\"})\n",
    "j3 = r3.json()\n",
    "search2res = pd.DataFrame.from_dict(j3)\n",
    "\n",
    "searchstr2 = \"https://www.austlit.edu.au/austlit/export\"\n",
    "r4 = requests.post(searchstr1, data = {\"exportTemplate\":\"JSON\",\"disposition\":\"file\",\"downloadFileName\":\"export\",\"downloadFileExtension\":\"json\",\"nodes\":search2res[\"results\"]}, headers={\"accept\":\"application/json\"})\n",
    "j4 = r4.json()\n",
    "search2res2 = pd.DataFrame.from_dict(j4)\n",
    "print(\"Search for female works complete (\" + str(len(search2res2.index)) + \" results)\")\n",
    "\n",
    "minyear = 2007 #int(input(\"Start year:\"))\n",
    "maxyear = 2016 #int(input(\"End year:\")) + 1\n",
    "\n",
    "all_years = []\n",
    "search1yearsD = {}\n",
    "search2yearsD = {}\n",
    "failed_dates = 0;\n",
    "for x in range(minyear, maxyear):\n",
    "    all_years.append(x)\n",
    "    search1yearsD[x] = 0\n",
    "    search2yearsD[x] = 0\n",
    "\n",
    "\n",
    "for d1 in search1res2[\"firstKnownDate\"]:\n",
    "    if str(d1).find(\"-\") != -1:\n",
    "        d1 = str(d1).split(\"-\")[0]\n",
    "    try:\n",
    "        if int(d1)in all_years:\n",
    "            search1yearsD[int(d1)] = search1yearsD[int(d1)] + 1\n",
    "    except ValueError:\n",
    "        failed_dates+=1\n",
    "\n",
    "\n",
    "for d2 in search2res2[\"firstKnownDate\"]:\n",
    "    if str(d2).find(\"-\") != -1:\n",
    "        d2 = d2.split(\"-\")[0]\n",
    "    try:\n",
    "        if int(d2)in all_years:\n",
    "            search2yearsD[int(d2)] = search2yearsD[int(d2)] + 1\n",
    "    except ValueError:\n",
    "        failed_dates+=1\n",
    "\n",
    "if failed_dates > 0:\n",
    "    print(str(failed_dates) + \" failures to parse publishing year.\")\n",
    "        \n",
    "search1years = []\n",
    "search2years = []\n",
    "for x in range(minyear, maxyear):\n",
    "    search1years.append(search1yearsD[x])\n",
    "    search2years.append(search2yearsD[x])\n",
    "    \n",
    "df = pd.DataFrame({\"male\": search1years, \"female\": search2years}, index=all_years)\n",
    "ax = df.plot.bar(rot=0,figsize=(20, 12))\n"
   ]
  },
  {
   "cell_type": "code",
   "execution_count": null,
   "metadata": {},
   "outputs": [],
   "source": []
  },
  {
   "cell_type": "code",
   "execution_count": null,
   "metadata": {},
   "outputs": [],
   "source": []
  }
 ],
 "metadata": {
  "kernelspec": {
   "display_name": "Environment (conda_py36)",
   "language": "python",
   "name": "conda_py36"
  },
  "language_info": {
   "codemirror_mode": {
    "name": "ipython",
    "version": 3
   },
   "file_extension": ".py",
   "mimetype": "text/x-python",
   "name": "python",
   "nbconvert_exporter": "python",
   "pygments_lexer": "ipython3",
   "version": "3.6.6"
  }
 },
 "nbformat": 4,
 "nbformat_minor": 4
}
