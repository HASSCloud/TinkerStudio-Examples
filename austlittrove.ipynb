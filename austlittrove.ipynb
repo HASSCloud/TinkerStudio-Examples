{
 "cells": [
  {
   "cell_type": "code",
   "execution_count": 1,
   "metadata": {},
   "outputs": [
    {
     "name": "stdout",
     "output_type": "stream",
     "text": [
      "AustLit/Trove Search\n"
     ]
    },
    {
     "name": "stdin",
     "output_type": "stream",
     "text": [
      "Search for work:  magic pudding\n"
     ]
    },
    {
     "name": "stdout",
     "output_type": "stream",
     "text": [
      "Search complete (44 results)\n",
      "Top AustLit result: The Magic Pudding : Being the Adventures of Bunyip Bluegum and His Friends Bill Barnacle and Sam Sawnoff, first published 1918 by Lindsay, Norman\n",
      "Top Trove Result: The magic pudding : the adventures of Bunyip Bluegum / Norman Lindsay https://trove.nla.gov.au/work/6486938\n"
     ]
    }
   ],
   "source": [
    "import pandas as pd\n",
    "import requests \n",
    "import ipywidgets as widgets\n",
    "import re\n",
    "import string\n",
    "\n",
    "print(\"AustLit/Trove Search\")\n",
    "search1 = input(\"Search for work: \")\n",
    "r = requests.get(\"https://www.austlit.edu.au/austlit/search?format=IdsOnly&facetValuesSize=0&facetSampleSize=0&passThru=y&count=11250&from=0&agentQuery=&workQuery=((ftwtitle:%22\" + search1 + \"%22)%20OR%20(ftwotherTitle:%22\" + search1 + \"%22))&scope=work\", headers={\"accept\":\"application/json\"})\n",
    "j = r.json()\n",
    "search1res = pd.DataFrame.from_dict(j)\n",
    "\n",
    "searchstr1 = \"https://www.austlit.edu.au/austlit/export\"\n",
    "r2 = requests.post(searchstr1, data = {\"exportTemplate\":\"JSON\",\"disposition\":\"file\",\"downloadFileName\":\"export\",\"downloadFileExtension\":\"json\",\"nodes\":search1res[\"results\"]}, headers={\"accept\":\"application/json\"})\n",
    "j2 = r2.json()\n",
    "search1res2 = pd.DataFrame.from_dict(j2)\n",
    "print(\"Search complete (\" + str(len(search1res2.index)) + \" results)\")\n",
    "\n",
    "try:\n",
    "    print(\"Top AustLit result: \" + search1res2[\"title\"][0] + \", first published \" + search1res2[\"firstKnownDate\"][0] + \" by \" + search1res2[\"authors\"][0][0][1])\n",
    "except IndexError:\n",
    "    print(\"Top AustLit result: \" + search1res2[\"title\"][0] + \", first published \" + search1res2[\"firstKnownDate\"][0])\n",
    "except TypeError:\n",
    "    print(\"Top AustLit result: \" + search1res2[\"title\"][0])\n",
    "    \n",
    "r3 = requests.get(\"https://api.trove.nla.gov.au/v2/result?key=aiffua8e6gnjlpoi&q=%22\" + re.sub(r'[^\\w\\s]','',search1) + \"%22&zone=book&encoding=json\")\n",
    "j3 = r3.json()\n",
    "search2res = pd.DataFrame.from_dict(j3)\n",
    "print(\"Top Trove Result: \" + search2res['response']['zone'][0]['records']['work'][0]['title'] + \" \" + search2res['response']['zone'][0]['records']['work'][0]['troveUrl'])"
   ]
  },
  {
   "cell_type": "code",
   "execution_count": null,
   "metadata": {},
   "outputs": [],
   "source": []
  },
  {
   "cell_type": "code",
   "execution_count": null,
   "metadata": {},
   "outputs": [],
   "source": []
  }
 ],
 "metadata": {
  "kernelspec": {
   "display_name": "Environment (conda_py36)",
   "language": "python",
   "name": "conda_py36"
  },
  "language_info": {
   "codemirror_mode": {
    "name": "ipython",
    "version": 3
   },
   "file_extension": ".py",
   "mimetype": "text/x-python",
   "name": "python",
   "nbconvert_exporter": "python",
   "pygments_lexer": "ipython3",
   "version": "3.6.6"
  }
 },
 "nbformat": 4,
 "nbformat_minor": 2
}
