{
 "cells": [
  {
   "cell_type": "code",
   "execution_count": null,
   "metadata": {},
   "outputs": [],
   "source": [
    "!pip install pyreadstat\n",
    "!pip install tabulate\n",
    "\n",
    "import requests\n",
    "import json\n",
    "import pyreadstat\n",
    "import numpy as np\n",
    "import matplotlib.pyplot as plt"
   ]
  },
  {
   "cell_type": "code",
   "execution_count": null,
   "metadata": {},
   "outputs": [],
   "source": [
    "# Replace the 'insert your token here'  with your own personal API key\n",
    "# Generate your token at https://dataverse.ada.edu.au/account/apitoken\n",
    "\n",
    "token = 'insert your token here'  # Generated at /account/apitoken\n",
    "headers = {'X-Dataverse-key' : token }"
   ]
  },
  {
   "cell_type": "code",
   "execution_count": null,
   "metadata": {},
   "outputs": [],
   "source": [
    "# Get the dataset by doi\n",
    "url = 'https://dataverse.ada.edu.au/api/datasets/:persistentId/?persistentId=doi:10.26193/5S8LLB'\n",
    "r1 = requests.get(url, headers = headers)\n",
    "data = json.loads(r1.content).get('data')\n",
    "#print(data)"
   ]
  },
  {
   "cell_type": "code",
   "execution_count": null,
   "metadata": {},
   "outputs": [],
   "source": [
    "# List the files for dataset\n",
    "# From the output pick the \"datasetVersionId\" that you would like to use\n",
    "url = 'https://dataverse.ada.edu.au/api/datasets/15397/versions/:latest/files'\n",
    "r1 = requests.get(url, headers = headers)\n",
    "data = json.loads(r1.content).get('data')\n",
    "print(json.dumps(data, indent=4))"
   ]
  },
  {
   "cell_type": "code",
   "execution_count": null,
   "metadata": {},
   "outputs": [],
   "source": [
    "# In the URL= line, replace [datasetVersionId] with the [datasetVersionId] from the previous step\n",
    "# for this example use 15398 - eg: url = 'https://dataverse.ada.edu.au/api/access/datafile/15398?format=original'\n",
    "\n",
    "url = 'https://dataverse.ada.edu.au/api/access/datafile/[datasetVersionId]?format=original'\n",
    "r1 = requests.get(url, headers = headers)\n",
    "data = r1.content\n",
    "#print(data)\n",
    "\n",
    "# Save the data\n",
    "datfile = open('2. VICSC_1855-1942_bigamy.csv', mode='wb')\n",
    "datfile.write(r1.content)"
   ]
  },
  {
   "cell_type": "code",
   "execution_count": null,
   "metadata": {},
   "outputs": [],
   "source": [
    "# Compute the stats\n",
    "from collections import defaultdict\n",
    "from IPython.display import HTML, display\n",
    "import tabulate\n",
    "import csv\n",
    "\n",
    "stats = defaultdict(int)\n",
    "with open('2. VICSC_1855-1942_bigamy.csv') as csvfile:\n",
    "    reader = csv.DictReader(csvfile)\n",
    "    for row in reader:\n",
    "        #print(row['Def_surname'], row['plea'])\n",
    "        stats[row['plea_first']] += 1\n",
    "\n",
    "plea_stats = [[_of, _count] for _of, _count in stats.items()]\n",
    "\n",
    "_headers = ['Plea to Bigany', 'Total']\n",
    "display(HTML(tabulate.tabulate(plea_stats, tablefmt='html', headers=_headers)))"
   ]
  }
 ],
 "metadata": {
  "kernelspec": {
   "display_name": "Python 3",
   "language": "python",
   "name": "python3"
  },
  "language_info": {
   "codemirror_mode": {
    "name": "ipython",
    "version": 3
   },
   "file_extension": ".py",
   "mimetype": "text/x-python",
   "name": "python",
   "nbconvert_exporter": "python",
   "pygments_lexer": "ipython3",
   "version": "3.7.3"
  }
 },
 "nbformat": 4,
 "nbformat_minor": 2
}
