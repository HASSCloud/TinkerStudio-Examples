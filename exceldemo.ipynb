{
 "cells": [
  {
   "cell_type": "markdown",
   "metadata": {},
   "source": [
    "the first step to analysis of XL code in the jupyter environment is to upload your data to the workspace, do this using up arrow on the left of screen.  once the data is uploaded we need to ensure that the notebook works with the nominated data set - upload your code and change out the demo dataset 'brian' to your own.   if you are unsure that your notebook has correctly uploaded the following code will show you that the xl file you wish to analyse connected to your workbook - the output is gobledygook- its just there to show the rest of the code will work - only run this code if you are unsure of the connection.  \n",
    "\n",
    "this notebook is based upon the information found here https://www.dataquest.io/blog/excel-and-pandas/ "
   ]
  },
  {
   "cell_type": "code",
   "execution_count": 1,
   "metadata": {},
   "outputs": [],
   "source": [
    "#with open(\"HopelsSquareSurv.xls\", \"rb\") as f:\n",
    "    #fstr = f.read()\n",
    "#print(fstr)"
   ]
  },
  {
   "cell_type": "code",
   "execution_count": 10,
   "metadata": {},
   "outputs": [
    {
     "name": "stderr",
     "output_type": "stream",
     "text": [
      "A subdirectory or file -p already exists.\n",
      "Error occurred while processing: -p.\n",
      "A subdirectory or file data already exists.\n",
      "Error occurred while processing: data.\n"
     ]
    }
   ],
   "source": [
    "!mkdir -p data\n",
    "!curl -s -L -o data/HopeIsSquareSurv.xls https://raw.githubusercontent.com/HASSCloud/TinkerStudio-Examples/master/data/HopeIsSquareSurv.xls"
   ]
  },
  {
   "cell_type": "markdown",
   "metadata": {},
   "source": [
    "start to install the requirements - most of the required packages should already be installed "
   ]
  },
  {
   "cell_type": "code",
   "execution_count": 11,
   "metadata": {},
   "outputs": [
    {
     "name": "stdout",
     "output_type": "stream",
     "text": [
      "Requirement already satisfied: xlrd in c:\\wpy64-3800\\python-3.8.0.amd64\\lib\\site-packages (1.2.0)\n"
     ]
    }
   ],
   "source": [
    "!pip install xlrd"
   ]
  },
  {
   "cell_type": "code",
   "execution_count": 12,
   "metadata": {},
   "outputs": [],
   "source": [
    "import numpy as np\n",
    "import pandas as pd\n",
    "import requests\n",
    "import collections\n",
    "import IPython.display as Disp\n",
    "import xml.etree.ElementTree as ET\n",
    "from io import StringIO\n",
    "from lxml import etree, objectify\n",
    "\n",
    "import os"
   ]
  },
  {
   "cell_type": "markdown",
   "metadata": {},
   "source": [
    "here we are naming our file to make the code easier to use"
   ]
  },
  {
   "cell_type": "code",
   "execution_count": 6,
   "metadata": {},
   "outputs": [],
   "source": [
    "excel_file = \"./data/HopeIsSquareSurv.xls\"\n"
   ]
  },
  {
   "cell_type": "code",
   "execution_count": 7,
   "metadata": {},
   "outputs": [],
   "source": [
    "HopeIsSquareSurv = pd.read_excel(excel_file)"
   ]
  },
  {
   "cell_type": "markdown",
   "metadata": {},
   "source": [
    "this code will showcase what is in our datasheet prior to futher analysis - the code will show the top 5 lines from all colums "
   ]
  },
  {
   "cell_type": "code",
   "execution_count": 8,
   "metadata": {},
   "outputs": [
    {
     "data": {
      "text/html": [
       "<div>\n",
       "<style scoped>\n",
       "    .dataframe tbody tr th:only-of-type {\n",
       "        vertical-align: middle;\n",
       "    }\n",
       "\n",
       "    .dataframe tbody tr th {\n",
       "        vertical-align: top;\n",
       "    }\n",
       "\n",
       "    .dataframe thead th {\n",
       "        text-align: right;\n",
       "    }\n",
       "</style>\n",
       "<table border=\"1\" class=\"dataframe\">\n",
       "  <thead>\n",
       "    <tr style=\"text-align: right;\">\n",
       "      <th></th>\n",
       "      <th>DIRECTION</th>\n",
       "      <th>SESSION</th>\n",
       "      <th>DATE</th>\n",
       "      <th>SQUARE</th>\n",
       "      <th>TREATMENT</th>\n",
       "      <th>QUAD</th>\n",
       "      <th>DEPTH</th>\n",
       "      <th>URCHIN</th>\n",
       "      <th>LIMPET</th>\n",
       "      <th>ABALONE</th>\n",
       "      <th>...</th>\n",
       "      <th>SARG</th>\n",
       "      <th>GIFF</th>\n",
       "      <th>DRIFT</th>\n",
       "      <th>ANNUAL</th>\n",
       "      <th>FILAMENTOUS</th>\n",
       "      <th>PERENNIAL</th>\n",
       "      <th>TOTALGWMAC</th>\n",
       "      <th>TOTALGWOMAC</th>\n",
       "      <th>URCHINCAT</th>\n",
       "      <th>LIMPETCAT</th>\n",
       "    </tr>\n",
       "  </thead>\n",
       "  <tbody>\n",
       "    <tr>\n",
       "      <th>0</th>\n",
       "      <td>STH</td>\n",
       "      <td>1</td>\n",
       "      <td>4.5.94</td>\n",
       "      <td>1S</td>\n",
       "      <td>C</td>\n",
       "      <td>LF</td>\n",
       "      <td>3.370</td>\n",
       "      <td>4.0</td>\n",
       "      <td>1.0</td>\n",
       "      <td>2.0</td>\n",
       "      <td>...</td>\n",
       "      <td>0</td>\n",
       "      <td>0.0</td>\n",
       "      <td>0.0</td>\n",
       "      <td>0.0</td>\n",
       "      <td>0.0</td>\n",
       "      <td>0.0</td>\n",
       "      <td>0.0</td>\n",
       "      <td>0.0</td>\n",
       "      <td>C</td>\n",
       "      <td>C</td>\n",
       "    </tr>\n",
       "    <tr>\n",
       "      <th>1</th>\n",
       "      <td>STH</td>\n",
       "      <td>1</td>\n",
       "      <td>4.5.94</td>\n",
       "      <td>1S</td>\n",
       "      <td>C</td>\n",
       "      <td>RF</td>\n",
       "      <td>3.370</td>\n",
       "      <td>11.0</td>\n",
       "      <td>5.0</td>\n",
       "      <td>3.0</td>\n",
       "      <td>...</td>\n",
       "      <td>0</td>\n",
       "      <td>0.0</td>\n",
       "      <td>0.0</td>\n",
       "      <td>0.0</td>\n",
       "      <td>0.0</td>\n",
       "      <td>0.0</td>\n",
       "      <td>0.0</td>\n",
       "      <td>0.0</td>\n",
       "      <td>C</td>\n",
       "      <td>C</td>\n",
       "    </tr>\n",
       "    <tr>\n",
       "      <th>2</th>\n",
       "      <td>STH</td>\n",
       "      <td>1</td>\n",
       "      <td>4.5.94</td>\n",
       "      <td>1S</td>\n",
       "      <td>C</td>\n",
       "      <td>RB</td>\n",
       "      <td>4.309</td>\n",
       "      <td>3.0</td>\n",
       "      <td>6.0</td>\n",
       "      <td>0.0</td>\n",
       "      <td>...</td>\n",
       "      <td>0</td>\n",
       "      <td>0.0</td>\n",
       "      <td>0.0</td>\n",
       "      <td>0.0</td>\n",
       "      <td>0.0</td>\n",
       "      <td>0.0</td>\n",
       "      <td>0.0</td>\n",
       "      <td>0.0</td>\n",
       "      <td>C</td>\n",
       "      <td>C</td>\n",
       "    </tr>\n",
       "    <tr>\n",
       "      <th>3</th>\n",
       "      <td>STH</td>\n",
       "      <td>1</td>\n",
       "      <td>4.5.94</td>\n",
       "      <td>1S</td>\n",
       "      <td>C</td>\n",
       "      <td>LB</td>\n",
       "      <td>4.309</td>\n",
       "      <td>11.0</td>\n",
       "      <td>5.0</td>\n",
       "      <td>1.0</td>\n",
       "      <td>...</td>\n",
       "      <td>0</td>\n",
       "      <td>0.0</td>\n",
       "      <td>0.0</td>\n",
       "      <td>0.0</td>\n",
       "      <td>0.0</td>\n",
       "      <td>0.0</td>\n",
       "      <td>0.0</td>\n",
       "      <td>0.0</td>\n",
       "      <td>C</td>\n",
       "      <td>C</td>\n",
       "    </tr>\n",
       "    <tr>\n",
       "      <th>4</th>\n",
       "      <td>STH</td>\n",
       "      <td>1</td>\n",
       "      <td>4.5.94</td>\n",
       "      <td>1S</td>\n",
       "      <td>C</td>\n",
       "      <td>DM</td>\n",
       "      <td>3.683</td>\n",
       "      <td>4.0</td>\n",
       "      <td>1.0</td>\n",
       "      <td>0.0</td>\n",
       "      <td>...</td>\n",
       "      <td>0</td>\n",
       "      <td>0.0</td>\n",
       "      <td>0.0</td>\n",
       "      <td>0.0</td>\n",
       "      <td>0.0</td>\n",
       "      <td>0.0</td>\n",
       "      <td>0.0</td>\n",
       "      <td>0.0</td>\n",
       "      <td>C</td>\n",
       "      <td>C</td>\n",
       "    </tr>\n",
       "  </tbody>\n",
       "</table>\n",
       "<p>5 rows × 26 columns</p>\n",
       "</div>"
      ],
      "text/plain": [
       "  DIRECTION  SESSION    DATE SQUARE TREATMENT QUAD  DEPTH  URCHIN  LIMPET  \\\n",
       "0       STH        1  4.5.94     1S         C   LF  3.370     4.0     1.0   \n",
       "1       STH        1  4.5.94     1S         C   RF  3.370    11.0     5.0   \n",
       "2       STH        1  4.5.94     1S         C   RB  4.309     3.0     6.0   \n",
       "3       STH        1  4.5.94     1S         C   LB  4.309    11.0     5.0   \n",
       "4       STH        1  4.5.94     1S         C   DM  3.683     4.0     1.0   \n",
       "\n",
       "   ABALONE  ...  SARG  GIFF  DRIFT  ANNUAL  FILAMENTOUS  PERENNIAL  \\\n",
       "0      2.0  ...     0   0.0    0.0     0.0          0.0        0.0   \n",
       "1      3.0  ...     0   0.0    0.0     0.0          0.0        0.0   \n",
       "2      0.0  ...     0   0.0    0.0     0.0          0.0        0.0   \n",
       "3      1.0  ...     0   0.0    0.0     0.0          0.0        0.0   \n",
       "4      0.0  ...     0   0.0    0.0     0.0          0.0        0.0   \n",
       "\n",
       "   TOTALGWMAC  TOTALGWOMAC  URCHINCAT  LIMPETCAT  \n",
       "0         0.0          0.0          C          C  \n",
       "1         0.0          0.0          C          C  \n",
       "2         0.0          0.0          C          C  \n",
       "3         0.0          0.0          C          C  \n",
       "4         0.0          0.0          C          C  \n",
       "\n",
       "[5 rows x 26 columns]"
      ]
     },
     "execution_count": 8,
     "metadata": {},
     "output_type": "execute_result"
    }
   ],
   "source": [
    "HopelsSquareSurv.head()"
   ]
  },
  {
   "cell_type": "markdown",
   "metadata": {},
   "source": [
    "the next line of code will isolate each sheet of the XL file - *note our dataset is only one sheet see https://www.dataquest.io/blog/excel-and-pandas/ for information on using multisheet datasets"
   ]
  },
  {
   "cell_type": "code",
   "execution_count": 8,
   "metadata": {},
   "outputs": [
    {
     "data": {
      "text/html": [
       "<div>\n",
       "<style scoped>\n",
       "    .dataframe tbody tr th:only-of-type {\n",
       "        vertical-align: middle;\n",
       "    }\n",
       "\n",
       "    .dataframe tbody tr th {\n",
       "        vertical-align: top;\n",
       "    }\n",
       "\n",
       "    .dataframe thead th {\n",
       "        text-align: right;\n",
       "    }\n",
       "</style>\n",
       "<table border=\"1\" class=\"dataframe\">\n",
       "  <thead>\n",
       "    <tr style=\"text-align: right;\">\n",
       "      <th></th>\n",
       "      <th>SESSION</th>\n",
       "      <th>DATE</th>\n",
       "      <th>SQUARE</th>\n",
       "      <th>TREATMENT</th>\n",
       "      <th>QUAD</th>\n",
       "      <th>DEPTH</th>\n",
       "      <th>URCHIN</th>\n",
       "      <th>LIMPET</th>\n",
       "      <th>ABALONE</th>\n",
       "      <th>CORALLINE</th>\n",
       "      <th>...</th>\n",
       "      <th>SARG</th>\n",
       "      <th>GIFF</th>\n",
       "      <th>DRIFT</th>\n",
       "      <th>ANNUAL</th>\n",
       "      <th>FILAMENTOUS</th>\n",
       "      <th>PERENNIAL</th>\n",
       "      <th>TOTALGWMAC</th>\n",
       "      <th>TOTALGWOMAC</th>\n",
       "      <th>URCHINCAT</th>\n",
       "      <th>LIMPETCAT</th>\n",
       "    </tr>\n",
       "    <tr>\n",
       "      <th>DIRECTION</th>\n",
       "      <th></th>\n",
       "      <th></th>\n",
       "      <th></th>\n",
       "      <th></th>\n",
       "      <th></th>\n",
       "      <th></th>\n",
       "      <th></th>\n",
       "      <th></th>\n",
       "      <th></th>\n",
       "      <th></th>\n",
       "      <th></th>\n",
       "      <th></th>\n",
       "      <th></th>\n",
       "      <th></th>\n",
       "      <th></th>\n",
       "      <th></th>\n",
       "      <th></th>\n",
       "      <th></th>\n",
       "      <th></th>\n",
       "      <th></th>\n",
       "      <th></th>\n",
       "    </tr>\n",
       "  </thead>\n",
       "  <tbody>\n",
       "    <tr>\n",
       "      <th>STH</th>\n",
       "      <td>1</td>\n",
       "      <td>4.5.94</td>\n",
       "      <td>1S</td>\n",
       "      <td>C</td>\n",
       "      <td>LF</td>\n",
       "      <td>3.370</td>\n",
       "      <td>4.0</td>\n",
       "      <td>1.0</td>\n",
       "      <td>2.0</td>\n",
       "      <td>10.0</td>\n",
       "      <td>...</td>\n",
       "      <td>0</td>\n",
       "      <td>0.0</td>\n",
       "      <td>0.0</td>\n",
       "      <td>0.0</td>\n",
       "      <td>0.0</td>\n",
       "      <td>0.0</td>\n",
       "      <td>0.0</td>\n",
       "      <td>0.0</td>\n",
       "      <td>C</td>\n",
       "      <td>C</td>\n",
       "    </tr>\n",
       "    <tr>\n",
       "      <th>STH</th>\n",
       "      <td>1</td>\n",
       "      <td>4.5.94</td>\n",
       "      <td>1S</td>\n",
       "      <td>C</td>\n",
       "      <td>RF</td>\n",
       "      <td>3.370</td>\n",
       "      <td>11.0</td>\n",
       "      <td>5.0</td>\n",
       "      <td>3.0</td>\n",
       "      <td>5.0</td>\n",
       "      <td>...</td>\n",
       "      <td>0</td>\n",
       "      <td>0.0</td>\n",
       "      <td>0.0</td>\n",
       "      <td>0.0</td>\n",
       "      <td>0.0</td>\n",
       "      <td>0.0</td>\n",
       "      <td>0.0</td>\n",
       "      <td>0.0</td>\n",
       "      <td>C</td>\n",
       "      <td>C</td>\n",
       "    </tr>\n",
       "    <tr>\n",
       "      <th>STH</th>\n",
       "      <td>1</td>\n",
       "      <td>4.5.94</td>\n",
       "      <td>1S</td>\n",
       "      <td>C</td>\n",
       "      <td>RB</td>\n",
       "      <td>4.309</td>\n",
       "      <td>3.0</td>\n",
       "      <td>6.0</td>\n",
       "      <td>0.0</td>\n",
       "      <td>4.0</td>\n",
       "      <td>...</td>\n",
       "      <td>0</td>\n",
       "      <td>0.0</td>\n",
       "      <td>0.0</td>\n",
       "      <td>0.0</td>\n",
       "      <td>0.0</td>\n",
       "      <td>0.0</td>\n",
       "      <td>0.0</td>\n",
       "      <td>0.0</td>\n",
       "      <td>C</td>\n",
       "      <td>C</td>\n",
       "    </tr>\n",
       "    <tr>\n",
       "      <th>STH</th>\n",
       "      <td>1</td>\n",
       "      <td>4.5.94</td>\n",
       "      <td>1S</td>\n",
       "      <td>C</td>\n",
       "      <td>LB</td>\n",
       "      <td>4.309</td>\n",
       "      <td>11.0</td>\n",
       "      <td>5.0</td>\n",
       "      <td>1.0</td>\n",
       "      <td>4.0</td>\n",
       "      <td>...</td>\n",
       "      <td>0</td>\n",
       "      <td>0.0</td>\n",
       "      <td>0.0</td>\n",
       "      <td>0.0</td>\n",
       "      <td>0.0</td>\n",
       "      <td>0.0</td>\n",
       "      <td>0.0</td>\n",
       "      <td>0.0</td>\n",
       "      <td>C</td>\n",
       "      <td>C</td>\n",
       "    </tr>\n",
       "    <tr>\n",
       "      <th>STH</th>\n",
       "      <td>1</td>\n",
       "      <td>4.5.94</td>\n",
       "      <td>1S</td>\n",
       "      <td>C</td>\n",
       "      <td>DM</td>\n",
       "      <td>3.683</td>\n",
       "      <td>4.0</td>\n",
       "      <td>1.0</td>\n",
       "      <td>0.0</td>\n",
       "      <td>5.0</td>\n",
       "      <td>...</td>\n",
       "      <td>0</td>\n",
       "      <td>0.0</td>\n",
       "      <td>0.0</td>\n",
       "      <td>0.0</td>\n",
       "      <td>0.0</td>\n",
       "      <td>0.0</td>\n",
       "      <td>0.0</td>\n",
       "      <td>0.0</td>\n",
       "      <td>C</td>\n",
       "      <td>C</td>\n",
       "    </tr>\n",
       "  </tbody>\n",
       "</table>\n",
       "<p>5 rows × 25 columns</p>\n",
       "</div>"
      ],
      "text/plain": [
       "           SESSION    DATE SQUARE TREATMENT QUAD  DEPTH  URCHIN  LIMPET  \\\n",
       "DIRECTION                                                                 \n",
       "STH              1  4.5.94     1S         C   LF  3.370     4.0     1.0   \n",
       "STH              1  4.5.94     1S         C   RF  3.370    11.0     5.0   \n",
       "STH              1  4.5.94     1S         C   RB  4.309     3.0     6.0   \n",
       "STH              1  4.5.94     1S         C   LB  4.309    11.0     5.0   \n",
       "STH              1  4.5.94     1S         C   DM  3.683     4.0     1.0   \n",
       "\n",
       "           ABALONE  CORALLINE    ...      SARG  GIFF  DRIFT  ANNUAL  \\\n",
       "DIRECTION                        ...                                  \n",
       "STH            2.0       10.0    ...         0   0.0    0.0     0.0   \n",
       "STH            3.0        5.0    ...         0   0.0    0.0     0.0   \n",
       "STH            0.0        4.0    ...         0   0.0    0.0     0.0   \n",
       "STH            1.0        4.0    ...         0   0.0    0.0     0.0   \n",
       "STH            0.0        5.0    ...         0   0.0    0.0     0.0   \n",
       "\n",
       "           FILAMENTOUS  PERENNIAL  TOTALGWMAC  TOTALGWOMAC  URCHINCAT  \\\n",
       "DIRECTION                                                               \n",
       "STH                0.0        0.0         0.0          0.0          C   \n",
       "STH                0.0        0.0         0.0          0.0          C   \n",
       "STH                0.0        0.0         0.0          0.0          C   \n",
       "STH                0.0        0.0         0.0          0.0          C   \n",
       "STH                0.0        0.0         0.0          0.0          C   \n",
       "\n",
       "           LIMPETCAT  \n",
       "DIRECTION             \n",
       "STH                C  \n",
       "STH                C  \n",
       "STH                C  \n",
       "STH                C  \n",
       "STH                C  \n",
       "\n",
       "[5 rows x 25 columns]"
      ]
     },
     "execution_count": 8,
     "metadata": {},
     "output_type": "execute_result"
    }
   ],
   "source": [
    "HopelsSquareSurv1 = pd.read_excel(excel_file, sheet_name=0, index_col=0)\n",
    "HopelsSquareSurv1.head()"
   ]
  },
  {
   "cell_type": "markdown",
   "metadata": {},
   "source": [
    "here we can isolate a single column to show the values - using this function we can see the top 30 depths from the over 1100 lines of data"
   ]
  },
  {
   "cell_type": "code",
   "execution_count": 9,
   "metadata": {},
   "outputs": [
    {
     "data": {
      "text/plain": [
       "894     5.486\n",
       "885     5.486\n",
       "1044    5.300\n",
       "1055    5.300\n",
       "1056    5.200\n",
       "755     5.200\n",
       "1046    5.200\n",
       "573     5.200\n",
       "1054    5.200\n",
       "946     5.182\n",
       "955     5.182\n",
       "884     5.182\n",
       "886     5.182\n",
       "887     5.182\n",
       "901     5.182\n",
       "888     5.182\n",
       "893     5.182\n",
       "895     5.182\n",
       "896     5.182\n",
       "613     5.100\n",
       "568     5.100\n",
       "1115    5.100\n",
       "1106    5.100\n",
       "562     5.100\n",
       "1045    5.100\n",
       "1066    5.100\n",
       "588     5.000\n",
       "486     5.000\n",
       "563     5.000\n",
       "1114    5.000\n",
       "Name: DEPTH, dtype: float64"
      ]
     },
     "execution_count": 9,
     "metadata": {},
     "output_type": "execute_result"
    }
   ],
   "source": [
    "sorted_by_DEPTH = HopelsSquareSurv.sort_values(['DEPTH'], ascending=False)\n",
    "sorted_by_DEPTH[\"DEPTH\"].head(30)"
   ]
  },
  {
   "cell_type": "markdown",
   "metadata": {},
   "source": [
    "The next sets of code will show how to sort the data and plot it - the graphs below show the frequencies of depths in the data"
   ]
  },
  {
   "cell_type": "code",
   "execution_count": 10,
   "metadata": {},
   "outputs": [],
   "source": [
    "import matplotlib.pyplot as plt"
   ]
  },
  {
   "cell_type": "code",
   "execution_count": 11,
   "metadata": {},
   "outputs": [
    {
     "data": {
      "image/png": "[encoded data removed]",
      "text/plain": [
       "<Figure size 432x288 with 1 Axes>"
      ]
     },
     "metadata": {
      "needs_background": "light"
     },
     "output_type": "display_data"
    }
   ],
   "source": [
    "sorted_by_DEPTH[\"DEPTH\"].head(10).plot(kind=\"barh\")\n",
    "plt.show()"
   ]
  },
  {
   "cell_type": "code",
   "execution_count": 12,
   "metadata": {},
   "outputs": [
    {
     "data": {
      "image/png": "[encoded data removed]",
      "text/plain": [
       "<Figure size 432x288 with 1 Axes>"
      ]
     },
     "metadata": {
      "needs_background": "light"
     },
     "output_type": "display_data"
    }
   ],
   "source": [
    "HopelsSquareSurv['DEPTH'].plot(kind=\"hist\")\n",
    "plt.show()"
   ]
  },
  {
   "cell_type": "markdown",
   "metadata": {},
   "source": [
    "The Describe function starts to show statistical analysis from our data, including counts, means, median and standard deviation"
   ]
  },
  {
   "cell_type": "code",
   "execution_count": 13,
   "metadata": {},
   "outputs": [
    {
     "data": {
      "text/html": [
       "<div>\n",
       "<style scoped>\n",
       "    .dataframe tbody tr th:only-of-type {\n",
       "        vertical-align: middle;\n",
       "    }\n",
       "\n",
       "    .dataframe tbody tr th {\n",
       "        vertical-align: top;\n",
       "    }\n",
       "\n",
       "    .dataframe thead th {\n",
       "        text-align: right;\n",
       "    }\n",
       "</style>\n",
       "<table border=\"1\" class=\"dataframe\">\n",
       "  <thead>\n",
       "    <tr style=\"text-align: right;\">\n",
       "      <th></th>\n",
       "      <th>SESSION</th>\n",
       "      <th>DEPTH</th>\n",
       "      <th>URCHIN</th>\n",
       "      <th>LIMPET</th>\n",
       "      <th>ABALONE</th>\n",
       "      <th>CORALLINE</th>\n",
       "      <th>SPONGE</th>\n",
       "      <th>SCUNGE</th>\n",
       "      <th>COLPOMEN</th>\n",
       "      <th>CYST</th>\n",
       "      <th>MACRO</th>\n",
       "      <th>SARG</th>\n",
       "      <th>GIFF</th>\n",
       "      <th>DRIFT</th>\n",
       "      <th>ANNUAL</th>\n",
       "      <th>FILAMENTOUS</th>\n",
       "      <th>PERENNIAL</th>\n",
       "      <th>TOTALGWMAC</th>\n",
       "      <th>TOTALGWOMAC</th>\n",
       "    </tr>\n",
       "  </thead>\n",
       "  <tbody>\n",
       "    <tr>\n",
       "      <th>count</th>\n",
       "      <td>1150.000000</td>\n",
       "      <td>1148.000000</td>\n",
       "      <td>1148.000000</td>\n",
       "      <td>1148.000000</td>\n",
       "      <td>1148.000000</td>\n",
       "      <td>1148.000000</td>\n",
       "      <td>1148.000000</td>\n",
       "      <td>1148.000000</td>\n",
       "      <td>1148.000000</td>\n",
       "      <td>1148.000000</td>\n",
       "      <td>1148.000000</td>\n",
       "      <td>1150.000000</td>\n",
       "      <td>1148.000000</td>\n",
       "      <td>1148.000000</td>\n",
       "      <td>1148.000000</td>\n",
       "      <td>1148.000000</td>\n",
       "      <td>1148.000000</td>\n",
       "      <td>1148.000000</td>\n",
       "      <td>1148.000000</td>\n",
       "    </tr>\n",
       "    <tr>\n",
       "      <th>mean</th>\n",
       "      <td>4.052174</td>\n",
       "      <td>3.751313</td>\n",
       "      <td>2.425958</td>\n",
       "      <td>3.318815</td>\n",
       "      <td>0.577526</td>\n",
       "      <td>11.361498</td>\n",
       "      <td>1.963415</td>\n",
       "      <td>8.557491</td>\n",
       "      <td>1.047038</td>\n",
       "      <td>0.879791</td>\n",
       "      <td>1.031359</td>\n",
       "      <td>1.135652</td>\n",
       "      <td>1.176829</td>\n",
       "      <td>0.747387</td>\n",
       "      <td>2.695122</td>\n",
       "      <td>5.205575</td>\n",
       "      <td>2.949477</td>\n",
       "      <td>11.453833</td>\n",
       "      <td>10.422474</td>\n",
       "    </tr>\n",
       "    <tr>\n",
       "      <th>std</th>\n",
       "      <td>2.000189</td>\n",
       "      <td>0.683766</td>\n",
       "      <td>2.588066</td>\n",
       "      <td>6.304903</td>\n",
       "      <td>1.063011</td>\n",
       "      <td>10.709161</td>\n",
       "      <td>6.600604</td>\n",
       "      <td>12.203652</td>\n",
       "      <td>3.486362</td>\n",
       "      <td>2.678568</td>\n",
       "      <td>4.082078</td>\n",
       "      <td>3.940245</td>\n",
       "      <td>3.784185</td>\n",
       "      <td>2.786933</td>\n",
       "      <td>6.094668</td>\n",
       "      <td>9.974225</td>\n",
       "      <td>7.425367</td>\n",
       "      <td>14.153615</td>\n",
       "      <td>13.591310</td>\n",
       "    </tr>\n",
       "    <tr>\n",
       "      <th>min</th>\n",
       "      <td>1.000000</td>\n",
       "      <td>1.900000</td>\n",
       "      <td>0.000000</td>\n",
       "      <td>0.000000</td>\n",
       "      <td>0.000000</td>\n",
       "      <td>0.000000</td>\n",
       "      <td>0.000000</td>\n",
       "      <td>0.000000</td>\n",
       "      <td>0.000000</td>\n",
       "      <td>0.000000</td>\n",
       "      <td>0.000000</td>\n",
       "      <td>0.000000</td>\n",
       "      <td>0.000000</td>\n",
       "      <td>0.000000</td>\n",
       "      <td>0.000000</td>\n",
       "      <td>0.000000</td>\n",
       "      <td>0.000000</td>\n",
       "      <td>0.000000</td>\n",
       "      <td>0.000000</td>\n",
       "    </tr>\n",
       "    <tr>\n",
       "      <th>25%</th>\n",
       "      <td>2.000000</td>\n",
       "      <td>3.300000</td>\n",
       "      <td>0.000000</td>\n",
       "      <td>0.000000</td>\n",
       "      <td>0.000000</td>\n",
       "      <td>3.000000</td>\n",
       "      <td>0.000000</td>\n",
       "      <td>0.000000</td>\n",
       "      <td>0.000000</td>\n",
       "      <td>0.000000</td>\n",
       "      <td>0.000000</td>\n",
       "      <td>0.000000</td>\n",
       "      <td>0.000000</td>\n",
       "      <td>0.000000</td>\n",
       "      <td>0.000000</td>\n",
       "      <td>0.000000</td>\n",
       "      <td>0.000000</td>\n",
       "      <td>0.000000</td>\n",
       "      <td>0.000000</td>\n",
       "    </tr>\n",
       "    <tr>\n",
       "      <th>50%</th>\n",
       "      <td>4.000000</td>\n",
       "      <td>3.700000</td>\n",
       "      <td>2.000000</td>\n",
       "      <td>1.000000</td>\n",
       "      <td>0.000000</td>\n",
       "      <td>10.000000</td>\n",
       "      <td>0.000000</td>\n",
       "      <td>2.000000</td>\n",
       "      <td>0.000000</td>\n",
       "      <td>0.000000</td>\n",
       "      <td>0.000000</td>\n",
       "      <td>0.000000</td>\n",
       "      <td>0.000000</td>\n",
       "      <td>0.000000</td>\n",
       "      <td>0.000000</td>\n",
       "      <td>0.000000</td>\n",
       "      <td>0.000000</td>\n",
       "      <td>5.000000</td>\n",
       "      <td>5.000000</td>\n",
       "    </tr>\n",
       "    <tr>\n",
       "      <th>75%</th>\n",
       "      <td>6.000000</td>\n",
       "      <td>4.267000</td>\n",
       "      <td>4.000000</td>\n",
       "      <td>4.000000</td>\n",
       "      <td>1.000000</td>\n",
       "      <td>15.000000</td>\n",
       "      <td>0.250000</td>\n",
       "      <td>15.000000</td>\n",
       "      <td>0.000000</td>\n",
       "      <td>0.000000</td>\n",
       "      <td>0.000000</td>\n",
       "      <td>0.000000</td>\n",
       "      <td>0.000000</td>\n",
       "      <td>0.000000</td>\n",
       "      <td>2.000000</td>\n",
       "      <td>5.000000</td>\n",
       "      <td>2.000000</td>\n",
       "      <td>18.000000</td>\n",
       "      <td>16.000000</td>\n",
       "    </tr>\n",
       "    <tr>\n",
       "      <th>max</th>\n",
       "      <td>7.000000</td>\n",
       "      <td>5.486000</td>\n",
       "      <td>14.000000</td>\n",
       "      <td>49.000000</td>\n",
       "      <td>15.000000</td>\n",
       "      <td>48.000000</td>\n",
       "      <td>50.000000</td>\n",
       "      <td>52.000000</td>\n",
       "      <td>35.000000</td>\n",
       "      <td>30.000000</td>\n",
       "      <td>40.000000</td>\n",
       "      <td>40.000000</td>\n",
       "      <td>30.000000</td>\n",
       "      <td>40.000000</td>\n",
       "      <td>55.000000</td>\n",
       "      <td>50.000000</td>\n",
       "      <td>84.000000</td>\n",
       "      <td>84.000000</td>\n",
       "      <td>84.000000</td>\n",
       "    </tr>\n",
       "  </tbody>\n",
       "</table>\n",
       "</div>"
      ],
      "text/plain": [
       "           SESSION        DEPTH       URCHIN       LIMPET      ABALONE  \\\n",
       "count  1150.000000  1148.000000  1148.000000  1148.000000  1148.000000   \n",
       "mean      4.052174     3.751313     2.425958     3.318815     0.577526   \n",
       "std       2.000189     0.683766     2.588066     6.304903     1.063011   \n",
       "min       1.000000     1.900000     0.000000     0.000000     0.000000   \n",
       "25%       2.000000     3.300000     0.000000     0.000000     0.000000   \n",
       "50%       4.000000     3.700000     2.000000     1.000000     0.000000   \n",
       "75%       6.000000     4.267000     4.000000     4.000000     1.000000   \n",
       "max       7.000000     5.486000    14.000000    49.000000    15.000000   \n",
       "\n",
       "         CORALLINE       SPONGE       SCUNGE     COLPOMEN         CYST  \\\n",
       "count  1148.000000  1148.000000  1148.000000  1148.000000  1148.000000   \n",
       "mean     11.361498     1.963415     8.557491     1.047038     0.879791   \n",
       "std      10.709161     6.600604    12.203652     3.486362     2.678568   \n",
       "min       0.000000     0.000000     0.000000     0.000000     0.000000   \n",
       "25%       3.000000     0.000000     0.000000     0.000000     0.000000   \n",
       "50%      10.000000     0.000000     2.000000     0.000000     0.000000   \n",
       "75%      15.000000     0.250000    15.000000     0.000000     0.000000   \n",
       "max      48.000000    50.000000    52.000000    35.000000    30.000000   \n",
       "\n",
       "             MACRO         SARG         GIFF        DRIFT       ANNUAL  \\\n",
       "count  1148.000000  1150.000000  1148.000000  1148.000000  1148.000000   \n",
       "mean      1.031359     1.135652     1.176829     0.747387     2.695122   \n",
       "std       4.082078     3.940245     3.784185     2.786933     6.094668   \n",
       "min       0.000000     0.000000     0.000000     0.000000     0.000000   \n",
       "25%       0.000000     0.000000     0.000000     0.000000     0.000000   \n",
       "50%       0.000000     0.000000     0.000000     0.000000     0.000000   \n",
       "75%       0.000000     0.000000     0.000000     0.000000     2.000000   \n",
       "max      40.000000    40.000000    30.000000    40.000000    55.000000   \n",
       "\n",
       "       FILAMENTOUS    PERENNIAL   TOTALGWMAC  TOTALGWOMAC  \n",
       "count  1148.000000  1148.000000  1148.000000  1148.000000  \n",
       "mean      5.205575     2.949477    11.453833    10.422474  \n",
       "std       9.974225     7.425367    14.153615    13.591310  \n",
       "min       0.000000     0.000000     0.000000     0.000000  \n",
       "25%       0.000000     0.000000     0.000000     0.000000  \n",
       "50%       0.000000     0.000000     5.000000     5.000000  \n",
       "75%       5.000000     2.000000    18.000000    16.000000  \n",
       "max      50.000000    84.000000    84.000000    84.000000  "
      ]
     },
     "execution_count": 13,
     "metadata": {},
     "output_type": "execute_result"
    }
   ],
   "source": [
    "HopelsSquareSurv.describe()"
   ]
  },
  {
   "cell_type": "markdown",
   "metadata": {},
   "source": [
    "We can also isolate single columns to show the same information"
   ]
  },
  {
   "cell_type": "code",
   "execution_count": 15,
   "metadata": {},
   "outputs": [
    {
     "data": {
      "text/plain": [
       "3.7513127177700354"
      ]
     },
     "execution_count": 15,
     "metadata": {},
     "output_type": "execute_result"
    }
   ],
   "source": [
    "HopelsSquareSurv['DEPTH'].mean()"
   ]
  },
  {
   "cell_type": "code",
   "execution_count": 16,
   "metadata": {},
   "outputs": [
    {
     "data": {
      "text/plain": [
       "1.9"
      ]
     },
     "execution_count": 16,
     "metadata": {},
     "output_type": "execute_result"
    }
   ],
   "source": [
    "HopelsSquareSurv['DEPTH'].min()"
   ]
  },
  {
   "cell_type": "code",
   "execution_count": 17,
   "metadata": {},
   "outputs": [
    {
     "data": {
      "text/plain": [
       "1"
      ]
     },
     "execution_count": 17,
     "metadata": {},
     "output_type": "execute_result"
    }
   ],
   "source": [
    "HopelsSquareSurv['SESSION'].min()\n"
   ]
  },
  {
   "cell_type": "code",
   "execution_count": 18,
   "metadata": {},
   "outputs": [
    {
     "data": {
      "text/plain": [
       "7"
      ]
     },
     "execution_count": 18,
     "metadata": {},
     "output_type": "execute_result"
    }
   ],
   "source": [
    "HopelsSquareSurv['SESSION'].max()"
   ]
  },
  {
   "cell_type": "markdown",
   "metadata": {},
   "source": [
    "Sometimes we dont need to see everything in the file - this command will show the first 6 columns on the table"
   ]
  },
  {
   "cell_type": "code",
   "execution_count": 20,
   "metadata": {},
   "outputs": [
    {
     "data": {
      "text/html": [
       "<div>\n",
       "<style scoped>\n",
       "    .dataframe tbody tr th:only-of-type {\n",
       "        vertical-align: middle;\n",
       "    }\n",
       "\n",
       "    .dataframe tbody tr th {\n",
       "        vertical-align: top;\n",
       "    }\n",
       "\n",
       "    .dataframe thead th {\n",
       "        text-align: right;\n",
       "    }\n",
       "</style>\n",
       "<table border=\"1\" class=\"dataframe\">\n",
       "  <thead>\n",
       "    <tr style=\"text-align: right;\">\n",
       "      <th></th>\n",
       "      <th>DIRECTION</th>\n",
       "      <th>SESSION</th>\n",
       "      <th>DATE</th>\n",
       "      <th>SQUARE</th>\n",
       "      <th>TREATMENT</th>\n",
       "      <th>QUAD</th>\n",
       "      <th>DEPTH</th>\n",
       "    </tr>\n",
       "  </thead>\n",
       "  <tbody>\n",
       "    <tr>\n",
       "      <th>0</th>\n",
       "      <td>STH</td>\n",
       "      <td>1</td>\n",
       "      <td>4.5.94</td>\n",
       "      <td>1S</td>\n",
       "      <td>C</td>\n",
       "      <td>LF</td>\n",
       "      <td>3.370</td>\n",
       "    </tr>\n",
       "    <tr>\n",
       "      <th>1</th>\n",
       "      <td>STH</td>\n",
       "      <td>1</td>\n",
       "      <td>4.5.94</td>\n",
       "      <td>1S</td>\n",
       "      <td>C</td>\n",
       "      <td>RF</td>\n",
       "      <td>3.370</td>\n",
       "    </tr>\n",
       "    <tr>\n",
       "      <th>2</th>\n",
       "      <td>STH</td>\n",
       "      <td>1</td>\n",
       "      <td>4.5.94</td>\n",
       "      <td>1S</td>\n",
       "      <td>C</td>\n",
       "      <td>RB</td>\n",
       "      <td>4.309</td>\n",
       "    </tr>\n",
       "    <tr>\n",
       "      <th>3</th>\n",
       "      <td>STH</td>\n",
       "      <td>1</td>\n",
       "      <td>4.5.94</td>\n",
       "      <td>1S</td>\n",
       "      <td>C</td>\n",
       "      <td>LB</td>\n",
       "      <td>4.309</td>\n",
       "    </tr>\n",
       "    <tr>\n",
       "      <th>4</th>\n",
       "      <td>STH</td>\n",
       "      <td>1</td>\n",
       "      <td>4.5.94</td>\n",
       "      <td>1S</td>\n",
       "      <td>C</td>\n",
       "      <td>DM</td>\n",
       "      <td>3.683</td>\n",
       "    </tr>\n",
       "  </tbody>\n",
       "</table>\n",
       "</div>"
      ],
      "text/plain": [
       "  DIRECTION  SESSION    DATE SQUARE TREATMENT QUAD  DEPTH\n",
       "0       STH        1  4.5.94     1S         C   LF  3.370\n",
       "1       STH        1  4.5.94     1S         C   RF  3.370\n",
       "2       STH        1  4.5.94     1S         C   RB  4.309\n",
       "3       STH        1  4.5.94     1S         C   LB  4.309\n",
       "4       STH        1  4.5.94     1S         C   DM  3.683"
      ]
     },
     "execution_count": 20,
     "metadata": {},
     "output_type": "execute_result"
    }
   ],
   "source": [
    "HopelsSquareSurv_subset_columns = pd.read_excel(excel_file, usecols=6)\n",
    "HopelsSquareSurv_subset_columns.head()"
   ]
  },
  {
   "cell_type": "markdown",
   "metadata": {},
   "source": [
    "Pivot tables - here we can create and plot basic taples to visualise the data. the following code will show the numbers of Limpet found at depths"
   ]
  },
  {
   "cell_type": "code",
   "execution_count": 46,
   "metadata": {},
   "outputs": [
    {
     "data": {
      "text/html": [
       "<div>\n",
       "<style scoped>\n",
       "    .dataframe tbody tr th:only-of-type {\n",
       "        vertical-align: middle;\n",
       "    }\n",
       "\n",
       "    .dataframe tbody tr th {\n",
       "        vertical-align: top;\n",
       "    }\n",
       "\n",
       "    .dataframe thead th {\n",
       "        text-align: right;\n",
       "    }\n",
       "</style>\n",
       "<table border=\"1\" class=\"dataframe\">\n",
       "  <thead>\n",
       "    <tr style=\"text-align: right;\">\n",
       "      <th></th>\n",
       "      <th>LIMPET</th>\n",
       "      <th>DEPTH</th>\n",
       "    </tr>\n",
       "  </thead>\n",
       "  <tbody>\n",
       "    <tr>\n",
       "      <th>0</th>\n",
       "      <td>1.0</td>\n",
       "      <td>3.370</td>\n",
       "    </tr>\n",
       "    <tr>\n",
       "      <th>1</th>\n",
       "      <td>5.0</td>\n",
       "      <td>3.370</td>\n",
       "    </tr>\n",
       "    <tr>\n",
       "      <th>2</th>\n",
       "      <td>6.0</td>\n",
       "      <td>4.309</td>\n",
       "    </tr>\n",
       "    <tr>\n",
       "      <th>3</th>\n",
       "      <td>5.0</td>\n",
       "      <td>4.309</td>\n",
       "    </tr>\n",
       "    <tr>\n",
       "      <th>4</th>\n",
       "      <td>1.0</td>\n",
       "      <td>3.683</td>\n",
       "    </tr>\n",
       "  </tbody>\n",
       "</table>\n",
       "</div>"
      ],
      "text/plain": [
       "   LIMPET  DEPTH\n",
       "0     1.0  3.370\n",
       "1     5.0  3.370\n",
       "2     6.0  4.309\n",
       "3     5.0  4.309\n",
       "4     1.0  3.683"
      ]
     },
     "execution_count": 46,
     "metadata": {},
     "output_type": "execute_result"
    }
   ],
   "source": [
    "HopelsSquareSurv_subset = HopelsSquareSurv[['LIMPET', 'DEPTH',]]\n",
    "HopelsSquareSurv_subset.head()"
   ]
  },
  {
   "cell_type": "code",
   "execution_count": 52,
   "metadata": {},
   "outputs": [
    {
     "data": {
      "text/html": [
       "<div>\n",
       "<style scoped>\n",
       "    .dataframe tbody tr th:only-of-type {\n",
       "        vertical-align: middle;\n",
       "    }\n",
       "\n",
       "    .dataframe tbody tr th {\n",
       "        vertical-align: top;\n",
       "    }\n",
       "\n",
       "    .dataframe thead th {\n",
       "        text-align: right;\n",
       "    }\n",
       "</style>\n",
       "<table border=\"1\" class=\"dataframe\">\n",
       "  <thead>\n",
       "    <tr style=\"text-align: right;\">\n",
       "      <th></th>\n",
       "      <th>DEPTH</th>\n",
       "    </tr>\n",
       "    <tr>\n",
       "      <th>LIMPET</th>\n",
       "      <th></th>\n",
       "    </tr>\n",
       "  </thead>\n",
       "  <tbody>\n",
       "    <tr>\n",
       "      <th>0.0</th>\n",
       "      <td>4.089422</td>\n",
       "    </tr>\n",
       "    <tr>\n",
       "      <th>1.0</th>\n",
       "      <td>3.805582</td>\n",
       "    </tr>\n",
       "    <tr>\n",
       "      <th>2.0</th>\n",
       "      <td>3.703389</td>\n",
       "    </tr>\n",
       "    <tr>\n",
       "      <th>3.0</th>\n",
       "      <td>3.363982</td>\n",
       "    </tr>\n",
       "    <tr>\n",
       "      <th>4.0</th>\n",
       "      <td>3.591914</td>\n",
       "    </tr>\n",
       "  </tbody>\n",
       "</table>\n",
       "</div>"
      ],
      "text/plain": [
       "           DEPTH\n",
       "LIMPET          \n",
       "0.0     4.089422\n",
       "1.0     3.805582\n",
       "2.0     3.703389\n",
       "3.0     3.363982\n",
       "4.0     3.591914"
      ]
     },
     "execution_count": 52,
     "metadata": {},
     "output_type": "execute_result"
    }
   ],
   "source": [
    "Limpet_Depth = HopelsSquareSurv_subset.pivot_table(index=['LIMPET'])\n",
    "Limpet_Depth.head()"
   ]
  },
  {
   "cell_type": "code",
   "execution_count": 53,
   "metadata": {},
   "outputs": [
    {
     "data": {
      "image/png": "[encoded data removed]",
      "text/plain": [
       "<Figure size 432x288 with 1 Axes>"
      ]
     },
     "metadata": {
      "needs_background": "light"
     },
     "output_type": "display_data"
    }
   ],
   "source": [
    "Limpet_Depth.plot()\n",
    "plt.show()"
   ]
  },
  {
   "cell_type": "code",
   "execution_count": 41,
   "metadata": {},
   "outputs": [
    {
     "data": {
      "text/html": [
       "<div>\n",
       "<style scoped>\n",
       "    .dataframe tbody tr th:only-of-type {\n",
       "        vertical-align: middle;\n",
       "    }\n",
       "\n",
       "    .dataframe tbody tr th {\n",
       "        vertical-align: top;\n",
       "    }\n",
       "\n",
       "    .dataframe thead th {\n",
       "        text-align: right;\n",
       "    }\n",
       "</style>\n",
       "<table border=\"1\" class=\"dataframe\">\n",
       "  <thead>\n",
       "    <tr style=\"text-align: right;\">\n",
       "      <th></th>\n",
       "      <th>DIRECTION</th>\n",
       "      <th>SESSION</th>\n",
       "      <th>DEPTH</th>\n",
       "    </tr>\n",
       "  </thead>\n",
       "  <tbody>\n",
       "    <tr>\n",
       "      <th>0</th>\n",
       "      <td>STH</td>\n",
       "      <td>1</td>\n",
       "      <td>3.370</td>\n",
       "    </tr>\n",
       "    <tr>\n",
       "      <th>1</th>\n",
       "      <td>STH</td>\n",
       "      <td>1</td>\n",
       "      <td>3.370</td>\n",
       "    </tr>\n",
       "    <tr>\n",
       "      <th>2</th>\n",
       "      <td>STH</td>\n",
       "      <td>1</td>\n",
       "      <td>4.309</td>\n",
       "    </tr>\n",
       "    <tr>\n",
       "      <th>3</th>\n",
       "      <td>STH</td>\n",
       "      <td>1</td>\n",
       "      <td>4.309</td>\n",
       "    </tr>\n",
       "    <tr>\n",
       "      <th>4</th>\n",
       "      <td>STH</td>\n",
       "      <td>1</td>\n",
       "      <td>3.683</td>\n",
       "    </tr>\n",
       "  </tbody>\n",
       "</table>\n",
       "</div>"
      ],
      "text/plain": [
       "  DIRECTION  SESSION  DEPTH\n",
       "0       STH        1  3.370\n",
       "1       STH        1  3.370\n",
       "2       STH        1  4.309\n",
       "3       STH        1  4.309\n",
       "4       STH        1  3.683"
      ]
     },
     "execution_count": 41,
     "metadata": {},
     "output_type": "execute_result"
    }
   ],
   "source": [
    "date_depth_direction_subset = HopelsSquareSurv[['DIRECTION','SESSION', 'DEPTH']]\n",
    "date_depth_direction_subset.head()"
   ]
  },
  {
   "cell_type": "code",
   "execution_count": 54,
   "metadata": {},
   "outputs": [
    {
     "data": {
      "text/html": [
       "<div>\n",
       "<style scoped>\n",
       "    .dataframe tbody tr th:only-of-type {\n",
       "        vertical-align: middle;\n",
       "    }\n",
       "\n",
       "    .dataframe tbody tr th {\n",
       "        vertical-align: top;\n",
       "    }\n",
       "\n",
       "    .dataframe thead th {\n",
       "        text-align: right;\n",
       "    }\n",
       "</style>\n",
       "<table border=\"1\" class=\"dataframe\">\n",
       "  <thead>\n",
       "    <tr style=\"text-align: right;\">\n",
       "      <th></th>\n",
       "      <th>SESSION</th>\n",
       "    </tr>\n",
       "    <tr>\n",
       "      <th>DEPTH</th>\n",
       "      <th></th>\n",
       "    </tr>\n",
       "  </thead>\n",
       "  <tbody>\n",
       "    <tr>\n",
       "      <th>1.9</th>\n",
       "      <td>3.000000</td>\n",
       "    </tr>\n",
       "    <tr>\n",
       "      <th>2.0</th>\n",
       "      <td>3.000000</td>\n",
       "    </tr>\n",
       "    <tr>\n",
       "      <th>2.1</th>\n",
       "      <td>2.333333</td>\n",
       "    </tr>\n",
       "    <tr>\n",
       "      <th>2.2</th>\n",
       "      <td>3.000000</td>\n",
       "    </tr>\n",
       "    <tr>\n",
       "      <th>2.3</th>\n",
       "      <td>3.000000</td>\n",
       "    </tr>\n",
       "  </tbody>\n",
       "</table>\n",
       "</div>"
      ],
      "text/plain": [
       "        SESSION\n",
       "DEPTH          \n",
       "1.9    3.000000\n",
       "2.0    3.000000\n",
       "2.1    2.333333\n",
       "2.2    3.000000\n",
       "2.3    3.000000"
      ]
     },
     "execution_count": 54,
     "metadata": {},
     "output_type": "execute_result"
    }
   ],
   "source": [
    "date_by_depth_direction = date_depth_direction_subset.pivot_table(index=['DEPTH'])\n",
    "date_by_depth_direction.head()"
   ]
  },
  {
   "cell_type": "code",
   "execution_count": 55,
   "metadata": {},
   "outputs": [
    {
     "data": {
      "image/png": "[encoded data removed]",
      "text/plain": [
       "<Figure size 1440x576 with 1 Axes>"
      ]
     },
     "metadata": {
      "needs_background": "light"
     },
     "output_type": "display_data"
    }
   ],
   "source": [
    "date_by_depth_direction.head(20).plot(kind='bar', figsize=(20,8))\n",
    "plt.show()"
   ]
  },
  {
   "cell_type": "code",
   "execution_count": null,
   "metadata": {},
   "outputs": [],
   "source": []
  }
 ],
 "metadata": {
  "kernelspec": {
   "display_name": "Python 3",
   "language": "python",
   "name": "python3"
  },
  "language_info": {
   "codemirror_mode": {
    "name": "ipython",
    "version": 3
   },
   "file_extension": ".py",
   "mimetype": "text/x-python",
   "name": "python",
   "nbconvert_exporter": "python",
   "pygments_lexer": "ipython3",
   "version": "3.8.0"
  }
 },
 "nbformat": 4,
 "nbformat_minor": 4
}
